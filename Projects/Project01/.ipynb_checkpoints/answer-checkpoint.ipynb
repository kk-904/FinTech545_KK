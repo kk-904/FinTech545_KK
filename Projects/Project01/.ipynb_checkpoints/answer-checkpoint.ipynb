{
 "cells": [
  {
   "cell_type": "markdown",
   "metadata": {},
   "source": [
    "# Problem 1"
   ]
  },
  {
   "cell_type": "code",
   "execution_count": 14,
   "metadata": {
    "ExecuteTime": {
     "end_time": "2025-02-04T01:03:26.481987Z",
     "start_time": "2025-02-04T01:03:25.006226Z"
    }
   },
   "outputs": [],
   "source": [
    "import numpy as np\n",
    "import pandas as pd\n",
    "from matplotlib import pyplot as plt\n",
    "import scipy.stats as stats"
   ]
  },
  {
   "cell_type": "markdown",
   "metadata": {},
   "source": [
    "## 1.A"
   ]
  },
  {
   "cell_type": "code",
   "execution_count": 4,
   "metadata": {
    "ExecuteTime": {
     "end_time": "2025-02-04T01:03:26.506370Z",
     "start_time": "2025-02-04T01:03:26.496828Z"
    }
   },
   "outputs": [
    {
     "name": "stdout",
     "output_type": "stream",
     "text": [
      "Mean: 0.05019795790476916\n",
      "Variance: 0.010332476407479588\n",
      "Skewness: 0.1206257259522635\n",
      "Kurtosis: 0.23006981317028652\n"
     ]
    }
   ],
   "source": [
    "df = pd.read_csv('problem1.csv')\n",
    "mean = df.mean()\n",
    "var = df.var()\n",
    "skewness = df.skew()\n",
    "kurtosis = df.kurt()\n",
    "print(\"Mean: {}\".format(mean['X']))\n",
    "print(\"Variance: {}\".format(var['X']))\n",
    "print(\"Skewness: {}\".format(skewness['X']))\n",
    "print(\"Kurtosis: {}\".format(kurtosis['X']))"
   ]
  },
  {
   "cell_type": "markdown",
   "metadata": {},
   "source": [
    "## 1.B"
   ]
  },
  {
   "cell_type": "code",
   "execution_count": 13,
   "metadata": {
    "ExecuteTime": {
     "end_time": "2025-02-04T01:03:26.678333Z",
     "start_time": "2025-02-04T01:03:26.586150Z"
    }
   },
   "outputs": [
    {
     "data": {
      "text/plain": [
       "<Axes: ylabel='Density'>"
      ]
     },
     "execution_count": 13,
     "metadata": {},
     "output_type": "execute_result"
    },
    {
     "data": {
      "image/png": "[encoded data removed]",
      "text/plain": [
       "<Figure size 640x480 with 1 Axes>"
      ]
     },
     "metadata": {},
     "output_type": "display_data"
    }
   ],
   "source": [
    "df.plot(kind='density')"
   ]
  },
  {
   "cell_type": "markdown",
   "metadata": {},
   "source": [
    "I would choose T-Distribution to model the data. It is because the excess kurtosis is positive, indicating a t-distribution."
   ]
  },
  {
   "cell_type": "markdown",
   "metadata": {},
   "source": [
    "## 1.C"
   ]
  },
  {
   "cell_type": "code",
   "execution_count": 20,
   "metadata": {},
   "outputs": [
    {
     "data": {
      "text/html": [
       "<div>\n",
       "<style scoped>\n",
       "    .dataframe tbody tr th:only-of-type {\n",
       "        vertical-align: middle;\n",
       "    }\n",
       "\n",
       "    .dataframe tbody tr th {\n",
       "        vertical-align: top;\n",
       "    }\n",
       "\n",
       "    .dataframe thead th {\n",
       "        text-align: right;\n",
       "    }\n",
       "</style>\n",
       "<table border=\"1\" class=\"dataframe\">\n",
       "  <thead>\n",
       "    <tr style=\"text-align: right;\">\n",
       "      <th></th>\n",
       "      <th>log_likelyhood</th>\n",
       "      <th>AIC</th>\n",
       "      <th>BIC</th>\n",
       "    </tr>\n",
       "  </thead>\n",
       "  <tbody>\n",
       "    <tr>\n",
       "      <th>norm</th>\n",
       "      <td>867.793364</td>\n",
       "      <td>-1731.586729</td>\n",
       "      <td>-1672.341176</td>\n",
       "    </tr>\n",
       "    <tr>\n",
       "      <th>t</th>\n",
       "      <td>868.709184</td>\n",
       "      <td>-1731.418369</td>\n",
       "      <td>-1642.550039</td>\n",
       "    </tr>\n",
       "  </tbody>\n",
       "</table>\n",
       "</div>"
      ],
      "text/plain": [
       "     log_likelyhood          AIC          BIC\n",
       "norm     867.793364 -1731.586729 -1672.341176\n",
       "t        868.709184 -1731.418369 -1642.550039"
      ]
     },
     "execution_count": 20,
     "metadata": {},
     "output_type": "execute_result"
    }
   ],
   "source": [
    "# Fit model\n",
    "mu_norm, sigma_norm = stats.norm.fit(df)\n",
    "df_t, mu_t, sigma_t = stats.t.fit(df)\n",
    "# Calculate AIC & BIC\n",
    "ll_norm = np.sum(stats.norm.logpdf(df, mu_norm, sigma_norm))\n",
    "ll_t = np.sum(stats.t.logpdf(df, df_t, mu_t, sigma_t))\n",
    "aic_norm = 2 * 2 - 2 * ll_norm\n",
    "aic_t = 2 * 3 - 2*ll_t\n",
    "bic_norm = 2 * len(df) ** 0.5 - 2 * ll_norm\n",
    "bic_t = 3 * len(df) ** 0.5 - 2 * ll_t\n",
    "df_ana = pd.DataFrame(index=[\"norm\", \"t\"], columns=[\"log_likelyhood\", \"AIC\", \"BIC\"])\n",
    "df_ana.loc[\"norm\"] = [ll_norm, aic_norm, bic_norm]\n",
    "df_ana.loc[\"t\"] = [ll_t, aic_t, bic_t]\n",
    "df_ana"
   ]
  },
  {
   "cell_type": "markdown",
   "metadata": {},
   "source": [
    "Since BIC of normal distribution is smaller, I disapprove my choice in 1.B and we should choose **normal distribution** to fit the data. "
   ]
  }
 ],
 "metadata": {
  "kernelspec": {
   "display_name": "Python 3",
   "language": "python",
   "name": "python3"
  },
  "language_info": {
   "codemirror_mode": {
    "name": "ipython",
    "version": 3
   },
   "file_extension": ".py",
   "mimetype": "text/x-python",
   "name": "python",
   "nbconvert_exporter": "python",
   "pygments_lexer": "ipython3",
   "version": "3.13.1"
  }
 },
 "nbformat": 4,
 "nbformat_minor": 2
}
