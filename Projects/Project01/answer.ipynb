{
 "cells": [
  {
   "cell_type": "code",
   "execution_count": 165,
   "metadata": {
    "ExecuteTime": {
     "end_time": "2025-02-04T01:03:26.481987Z",
     "start_time": "2025-02-04T01:03:25.006226Z"
    }
   },
   "outputs": [],
   "source": [
    "import numpy as np\n",
    "import pandas as pd\n",
    "from matplotlib import pyplot as plt\n",
    "import scipy.stats as stats"
   ]
  },
  {
   "cell_type": "markdown",
   "metadata": {},
   "source": [
    "# Problem 1"
   ]
  },
  {
   "cell_type": "markdown",
   "metadata": {},
   "source": [
    "## 1.A"
   ]
  },
  {
   "cell_type": "code",
   "execution_count": 166,
   "metadata": {
    "ExecuteTime": {
     "end_time": "2025-02-04T01:03:26.506370Z",
     "start_time": "2025-02-04T01:03:26.496828Z"
    }
   },
   "outputs": [
    {
     "name": "stdout",
     "output_type": "stream",
     "text": [
      "Mean: 0.05019795790476916\n",
      "Variance: 0.010332476407479588\n",
      "Skewness: 0.1206257259522635\n",
      "Kurtosis: 0.23006981317028652\n"
     ]
    }
   ],
   "source": [
    "data1 = pd.read_csv(\"problem1.csv\")\n",
    "mean = data1.mean()\n",
    "var = data1.var()\n",
    "skewness = data1.skew()\n",
    "kurtosis = data1.kurt()\n",
    "print(\"Mean: {}\".format(mean[\"X\"]))\n",
    "print(\"Variance: {}\".format(var[\"X\"]))\n",
    "print(\"Skewness: {}\".format(skewness[\"X\"]))\n",
    "print(\"Kurtosis: {}\".format(kurtosis[\"X\"]))"
   ]
  },
  {
   "cell_type": "markdown",
   "metadata": {},
   "source": [
    "## 1.B"
   ]
  },
  {
   "cell_type": "code",
   "execution_count": 167,
   "metadata": {
    "ExecuteTime": {
     "end_time": "2025-02-04T01:03:26.678333Z",
     "start_time": "2025-02-04T01:03:26.586150Z"
    }
   },
   "outputs": [
    {
     "data": {
      "text/plain": [
       "<Axes: ylabel='Density'>"
      ]
     },
     "execution_count": 167,
     "metadata": {},
     "output_type": "execute_result"
    },
    {
     "data": {
      "image/png": "[encoded data removed]",
      "text/plain": [
       "<Figure size 640x480 with 1 Axes>"
      ]
     },
     "metadata": {},
     "output_type": "display_data"
    }
   ],
   "source": [
    "data1.plot(kind=\"density\")"
   ]
  },
  {
   "cell_type": "markdown",
   "metadata": {},
   "source": [
    "I would choose T-Distribution to model the data. It is because the excess kurtosis is positive, indicating a t-distribution."
   ]
  },
  {
   "cell_type": "markdown",
   "metadata": {},
   "source": [
    "## 1.C"
   ]
  },
  {
   "cell_type": "code",
   "execution_count": 168,
   "metadata": {},
   "outputs": [
    {
     "data": {
      "text/html": [
       "<div>\n",
       "<style scoped>\n",
       "    .dataframe tbody tr th:only-of-type {\n",
       "        vertical-align: middle;\n",
       "    }\n",
       "\n",
       "    .dataframe tbody tr th {\n",
       "        vertical-align: top;\n",
       "    }\n",
       "\n",
       "    .dataframe thead th {\n",
       "        text-align: right;\n",
       "    }\n",
       "</style>\n",
       "<table border=\"1\" class=\"dataframe\">\n",
       "  <thead>\n",
       "    <tr style=\"text-align: right;\">\n",
       "      <th></th>\n",
       "      <th>log_likelyhood</th>\n",
       "      <th>AIC</th>\n",
       "      <th>BIC</th>\n",
       "    </tr>\n",
       "  </thead>\n",
       "  <tbody>\n",
       "    <tr>\n",
       "      <th>norm</th>\n",
       "      <td>867.793364</td>\n",
       "      <td>-1731.586729</td>\n",
       "      <td>-1672.341176</td>\n",
       "    </tr>\n",
       "    <tr>\n",
       "      <th>t</th>\n",
       "      <td>868.709184</td>\n",
       "      <td>-1731.418369</td>\n",
       "      <td>-1642.550039</td>\n",
       "    </tr>\n",
       "  </tbody>\n",
       "</table>\n",
       "</div>"
      ],
      "text/plain": [
       "     log_likelyhood          AIC          BIC\n",
       "norm     867.793364 -1731.586729 -1672.341176\n",
       "t        868.709184 -1731.418369 -1642.550039"
      ]
     },
     "execution_count": 168,
     "metadata": {},
     "output_type": "execute_result"
    }
   ],
   "source": [
    "# Fit model\n",
    "mu_norm, sigma_norm = stats.norm.fit(data1)\n",
    "df_t, mu_t, sigma_t = stats.t.fit(data1)\n",
    "# Calculate AIC & BIC\n",
    "ll_norm = np.sum(stats.norm.logpdf(data1, mu_norm, sigma_norm))\n",
    "ll_t = np.sum(stats.t.logpdf(data1, df_t, mu_t, sigma_t))\n",
    "aic_norm = 2 * 2 - 2 * ll_norm\n",
    "aic_t = 2 * 3 - 2 * ll_t\n",
    "bic_norm = 2 * len(data1) ** 0.5 - 2 * ll_norm\n",
    "bic_t = 3 * len(data1) ** 0.5 - 2 * ll_t\n",
    "df_ana = pd.DataFrame(index=[\"norm\", \"t\"], columns=[\"log_likelyhood\", \"AIC\", \"BIC\"])\n",
    "df_ana.loc[\"norm\"] = [ll_norm, aic_norm, bic_norm]\n",
    "df_ana.loc[\"t\"] = [ll_t, aic_t, bic_t]\n",
    "df_ana"
   ]
  },
  {
   "cell_type": "markdown",
   "metadata": {},
   "source": [
    "Since BIC of normal distribution is smaller, I disapprove my choice in 1.B and we should choose **normal distribution** to fit the data. "
   ]
  },
  {
   "cell_type": "markdown",
   "metadata": {},
   "source": [
    "# Problem 2"
   ]
  },
  {
   "cell_type": "markdown",
   "metadata": {},
   "source": [
    "## 2.A"
   ]
  },
  {
   "cell_type": "code",
   "execution_count": 169,
   "metadata": {},
   "outputs": [
    {
     "name": "stdout",
     "output_type": "stream",
     "text": [
      "[[1.47048437 1.45421424 0.87726904 1.90322645 1.44436105]\n",
      " [1.45421424 1.25207795 0.53954816 1.62191837 1.23787697]\n",
      " [0.87726904 0.53954816 1.272425   1.17195897 1.091912  ]\n",
      " [1.90322645 1.62191837 1.17195897 1.81446921 1.58972858]\n",
      " [1.44436105 1.23787697 1.091912   1.58972858 1.39618646]]\n"
     ]
    }
   ],
   "source": [
    "data2 = pd.read_csv(\"problem2.csv\")\n",
    "\n",
    "\n",
    "# Calculate covariance matrix\n",
    "def cov_matrix(df: pd.DataFrame, skip_miss=True):\n",
    "    \"\"\"Calculate covariance matrix.\n",
    "\n",
    "    Args:\n",
    "        df (_type_): data\n",
    "        skip_miss (bool, optional): If true, skipping missing, get all the rows which have values and calculate the covariance. If false, pairwise. For each cell, calculate the covariance. Defaults to True.\n",
    "    \"\"\"\n",
    "    \n",
    "    if skip_miss:\n",
    "        return df.dropna().cov().values\n",
    "    \n",
    "    m = df.shape[1]\n",
    "    result = np.full((m, m), np.nan)\n",
    "    for i in range(0, m):\n",
    "        for j in range(i, m):\n",
    "            temp = df.iloc[:, [i, j]].copy().dropna()\n",
    "            cov = float(temp.iloc[:, 0].cov(temp.iloc[:, 1]))\n",
    "            result[i, j] = cov\n",
    "            result[j, i] = cov\n",
    "    return result\n",
    "\n",
    "cov_matrix_pairwise = cov_matrix(data2, skip_miss=False)\n",
    "print(cov_matrix_pairwise)"
   ]
  },
  {
   "cell_type": "markdown",
   "metadata": {},
   "source": [
    "## 2.B"
   ]
  },
  {
   "cell_type": "code",
   "execution_count": 170,
   "metadata": {},
   "outputs": [
    {
     "name": "stdout",
     "output_type": "stream",
     "text": [
      "[ 6.78670573  0.83443367 -0.31024286  0.02797828 -0.13323183]\n"
     ]
    }
   ],
   "source": [
    "\n",
    "eigens = np.linalg.eigvals(cov_matrix_pairwise)\n",
    "print(eigens)"
   ]
  },
  {
   "cell_type": "markdown",
   "metadata": {},
   "source": [
    "Since some eigenvalues for the pairwise covariance matrix are negative, the matrix is not positive semi-definite."
   ]
  },
  {
   "cell_type": "markdown",
   "metadata": {},
   "source": [
    "## 2.C"
   ]
  },
  {
   "cell_type": "code",
   "execution_count": 171,
   "metadata": {},
   "outputs": [
    {
     "name": "stdout",
     "output_type": "stream",
     "text": [
      "Nearest positive semi-definite matrix using Higham’s method: \n",
      " [[1.47048437 1.33236075 0.88437762 1.62760182 1.3995556 ]\n",
      " [1.33236075 1.25207795 0.619028   1.4506041  1.21445034]\n",
      " [0.88437762 0.619028   1.272425   1.07684649 1.05965831]\n",
      " [1.62760182 1.4506041  1.07684649 1.81446921 1.57792823]\n",
      " [1.3995556  1.21445034 1.05965831 1.57792823 1.39618646]]\n",
      "[1.18310245 1.2915669  0.0921008  1.11783799 0.76704583]\n",
      "Nearest positive semi-definite matrix using Rebenato and Jackel’s method: \n",
      " [[2.05828317 2.07340983 0.14905003 2.16026101 1.30030606]\n",
      " [2.07340983 2.08864766 0.15014543 2.17613712 1.30986222]\n",
      " [0.14905003 0.15014543 0.01079342 0.15643473 0.09416132]\n",
      " [2.16026101 2.17613712 0.15643473 2.26729135 1.36472985]\n",
      " [1.30030606 1.30986222 0.09416132 1.36472985 0.8214593 ]]\n"
     ]
    }
   ],
   "source": [
    "# Reference: \n",
    "\n",
    "def _getPs(A, W, threshold):\n",
    "    W_sqrt = np.matrix(W ** 0.5)\n",
    "    eigen_vals, eigen_vec = np.linalg.eig(W_sqrt * A * W_sqrt)\n",
    "    Q = np.matrix(eigen_vec)\n",
    "    max_diag = np.matrix(np.diag(np.maximum(eigen_vals, threshold)))\n",
    "    A_plus =  Q*max_diag*Q.T\n",
    "    return  W_sqrt.I * A_plus * W_sqrt.I\n",
    "\n",
    "def _getPu(A, W):\n",
    "    Aret = np.array(A.copy())\n",
    "    Aret[W > 0] = np.array(W)[W > 0]\n",
    "    return np.matrix(Aret)\n",
    "\n",
    "def nearest_psd_higham(mat, threshold, n):\n",
    "    m = mat.shape[0]\n",
    "    d = np.sqrt(np.diag(mat))\n",
    "    d_inv = np.diag(1 / d)\n",
    "    mat_corr = d_inv @ mat @ d_inv\n",
    "    W = np.identity(m) \n",
    "    # W is the matrix used for the norm (assumed to be Identity matrix here)\n",
    "    # the algorithm should work for any diagonal W\n",
    "    deltaS = 0\n",
    "    Yk = mat_corr.copy()\n",
    "    for i in range(0,n):\n",
    "        Rk = Yk - deltaS\n",
    "        Xk = _getPs(Rk, W, threshold)\n",
    "        deltaS = Xk - Rk\n",
    "        Y_next = _getPu(Xk, W)\n",
    "        diff_norm = np.linalg.norm(Y_next - Yk, ord='fro')\n",
    "        if diff_norm < threshold:\n",
    "            break  # Stop early if the change is small\n",
    "        Yk = Y_next  # Update for next iteration\n",
    "    return np.diag(d) @ Yk @ np.diag(d)\n",
    "\n",
    "def nearest_psd_rj(mat, threshold):\n",
    "    m = mat.shape[0]\n",
    "    d = np.sqrt(np.diag(mat))\n",
    "    d_inv = np.diag(1 / d)\n",
    "    mat_corr = d_inv @ mat @ d_inv\n",
    "    eigen_vals, eigen_vector = np.linalg.eig(mat_corr)\n",
    "    eigen_vals = np.maximum(eigen_vals, threshold)  # Set negative eigenvalues to zero\n",
    "    t = np.zeros(shape = m)\n",
    "    for i in range(0, m):\n",
    "        sum_temp = 0\n",
    "        for j in range(0, m):\n",
    "            sum_temp += eigen_vector[i][j] ** 2 * eigen_vals[j]\n",
    "        t[i] = 1.0 / sum_temp\n",
    "    T_sqrt = np.diag(np.sqrt(t))\n",
    "    eigen_vals_sqrt = np.sqrt(eigen_vals)\n",
    "    B = T_sqrt @ eigen_vector @ eigen_vals_sqrt\n",
    "    print(B)\n",
    "    C_hat = np.outer(B, B.T)\n",
    "    return np.diag(d) @ C_hat @ np.diag(d)\n",
    "\n",
    "threshold = 1e-8\n",
    "a = nearest_psd_higham(cov_matrix_pairwise, threshold, 100)\n",
    "print(\"Nearest positive semi-definite matrix using Higham’s method: \\n\", a)\n",
    "b = nearest_psd_rj(cov_matrix_pairwise, threshold)\n",
    "print(\"Nearest positive semi-definite matrix using Rebenato and Jackel’s method: \\n\", b)\n"
   ]
  },
  {
   "cell_type": "markdown",
   "metadata": {},
   "source": [
    "## 2.D"
   ]
  },
  {
   "cell_type": "code",
   "execution_count": 172,
   "metadata": {},
   "outputs": [
    {
     "name": "stdout",
     "output_type": "stream",
     "text": [
      "[[0.41860366 0.39405407 0.42445735 0.41638241 0.43428682]\n",
      " [0.39405407 0.39678563 0.40934344 0.3984012  0.42263077]\n",
      " [0.42445735 0.40934344 0.4413601  0.42844141 0.44895733]\n",
      " [0.41638241 0.3984012  0.42844141 0.43727358 0.44016735]\n",
      " [0.43428682 0.42263077 0.44895733 0.44016735 0.46627249]]\n"
     ]
    }
   ],
   "source": [
    "cov_matrix_overlapping = cov_matrix(data2)\n",
    "print(cov_matrix_overlapping)"
   ]
  },
  {
   "cell_type": "markdown",
   "metadata": {},
   "source": [
    "## 2.E"
   ]
  },
  {
   "cell_type": "markdown",
   "metadata": {},
   "source": [
    "The covariance matrix using Higham’s method and the of Rebenato and Jackel are closer to the real covariance matrix than using the overlapping data. The covariances in matrices from 2.C tend to be overestimated (Higham’s method seems more accurate), while using overlapping data underestimates the covariances."
   ]
  },
  {
   "cell_type": "markdown",
   "metadata": {},
   "source": [
    "# Problem 3"
   ]
  },
  {
   "cell_type": "markdown",
   "metadata": {},
   "source": [
    "## 3.A"
   ]
  },
  {
   "cell_type": "code",
   "execution_count": 173,
   "metadata": {},
   "outputs": [
    {
     "name": "stdout",
     "output_type": "stream",
     "text": [
      "Expected values:\n",
      "[0.04600157 0.09991502]\n",
      "Covariance matrix:\n",
      "[[0.0101622  0.00492354]\n",
      " [0.00492354 0.02028441]]\n"
     ]
    }
   ],
   "source": [
    "data3 = pd.read_csv(\"problem3.csv\")\n",
    "# Calculate mean and covariance matrix\n",
    "mu = data3.mean().values\n",
    "print(\"Expected values:\")\n",
    "print(mu)\n",
    "cov_matrix = data3.cov().values\n",
    "print(\"Covariance matrix:\")\n",
    "print(cov_matrix)\n"
   ]
  },
  {
   "cell_type": "markdown",
   "metadata": {},
   "source": [
    "The expected values and covariance matrix of the multivariable normal model are showed above."
   ]
  },
  {
   "cell_type": "markdown",
   "metadata": {},
   "source": [
    "## 3.B"
   ]
  },
  {
   "cell_type": "markdown",
   "metadata": {},
   "source": [
    "### Method 1: Using the formula\n",
    "\n",
    "$\\bar{\\mu}=\\mu_2+\\sigma_{12}\\sigma_{11}^{-1}(a-\\mu_1)$\n",
    "\n",
    "$\\bar{\\sigma}=\\sigma_{22}-\\sigma_{12}\\sigma_{11}^{-1}\\sigma_{12}$"
   ]
  },
  {
   "cell_type": "code",
   "execution_count": 174,
   "metadata": {},
   "outputs": [
    {
     "name": "stdout",
     "output_type": "stream",
     "text": [
      "mu: 0.3683249958609775\n",
      "sigma: 0.020284159537142844\n"
     ]
    }
   ],
   "source": [
    "mu_con = mu[1] + cov_matrix[0][1] * (1 / cov_matrix[0][0]) * (0.6 - mu[0])\n",
    "var_con  = cov_matrix[1][1] - cov_matrix[0][1] * cov_matrix[0][0] * cov_matrix[0][1]\n",
    "print(\"mu:\", mu_con)\n",
    "print(\"sigma:\", var_con)"
   ]
  },
  {
   "cell_type": "markdown",
   "metadata": {},
   "source": [
    "$X_2|X_1=0.6\\sim N(0.3683, 0.0203)$"
   ]
  },
  {
   "cell_type": "markdown",
   "metadata": {},
   "source": [
    "### Method 2: Simulation"
   ]
  },
  {
   "cell_type": "code",
   "execution_count": 175,
   "metadata": {},
   "outputs": [
    {
     "name": "stdout",
     "output_type": "stream",
     "text": [
      "mu_simulation: 0.5144932194016819\n",
      "sigma_simulation 0.02939849837542517\n"
     ]
    }
   ],
   "source": [
    "# Calculate Cholesky root\n",
    "L = np.linalg.cholesky(cov_matrix)\n",
    "# Simulation\n",
    "# WARNING: Large Sample Size!\n",
    "size = 100000000\n",
    "Z = np.random.randn(size, 2).T\n",
    "X = (L @ Z).T + mu\n",
    "threshold = 0.02\n",
    "condition = np.abs(X[:, 0] - 0.6) < threshold\n",
    "X_con = X[condition]\n",
    "mu_con = X_con.mean()\n",
    "sigma_con = X_con.var()\n",
    "print(\"mu_simulation:\", mu_con)\n",
    "print(\"sigma_simulation\", sigma_con)"
   ]
  },
  {
   "cell_type": "markdown",
   "metadata": {},
   "source": [
    "## 3.C"
   ]
  },
  {
   "cell_type": "markdown",
   "metadata": {},
   "source": [
    "The simulation proved that the distribution is correct. (Since qualified sample size is small, the result is different from calculated.) "
   ]
  },
  {
   "cell_type": "markdown",
   "metadata": {},
   "source": [
    "# Problem 4"
   ]
  },
  {
   "cell_type": "markdown",
   "metadata": {},
   "source": [
    "## 4.A"
   ]
  },
  {
   "cell_type": "code",
   "execution_count": 176,
   "metadata": {},
   "outputs": [],
   "source": [
    "import statsmodels.api as sm\n",
    "import statsmodels.formula.api as smf\n",
    "import statsmodels.tsa.api as smt\n",
    "from statsmodels.graphics.tsaplots import plot_acf, plot_pacf\n",
    "from statsmodels.tsa.arima_process import ArmaProcess\n",
    "from statsmodels.tsa.arima.model import ARIMA"
   ]
  },
  {
   "cell_type": "code",
   "execution_count": 177,
   "metadata": {},
   "outputs": [
    {
     "name": "stdout",
     "output_type": "stream",
     "text": [
      "MA1/MA2/MA3\n"
     ]
    },
    {
     "data": {
      "image/png": "[encoded data removed]",
      "text/plain": [
       "<Figure size 1500x400 with 2 Axes>"
      ]
     },
     "metadata": {},
     "output_type": "display_data"
    },
    {
     "data": {
      "image/png": "[encoded data removed]",
      "text/plain": [
       "<Figure size 1500x400 with 2 Axes>"
      ]
     },
     "metadata": {},
     "output_type": "display_data"
    },
    {
     "data": {
      "image/png": "[encoded data removed]",
      "text/plain": [
       "<Figure size 1500x400 with 2 Axes>"
      ]
     },
     "metadata": {},
     "output_type": "display_data"
    }
   ],
   "source": [
    "def tsplot(y, lags=None, figsize=(15, 4)):\n",
    "    fig = plt.figure(figsize=figsize)\n",
    "    layout = (1, 2)\n",
    "    acf_ax = plt.subplot2grid(layout, (0,0))\n",
    "    pacf_ax = plt.subplot2grid(layout, (0,1))\n",
    "    smt.graphics.plot_acf(y, lags=lags, ax=acf_ax, alpha=0.05)\n",
    "    smt.graphics.plot_pacf(y, lags=lags, ax=pacf_ax, alpha=0.05)\n",
    "    plt.tight_layout()\n",
    "\n",
    "print(\"MA1/MA2/MA3\")\n",
    "# MA(1)\n",
    "ar = np.r_[1]\n",
    "ma = np.r_[np.array([.65])]\n",
    "ma1 = ArmaProcess(ar, ma)\n",
    "y = ma1.generate_sample(1000)\n",
    "tsplot(y)\n",
    "# MA(2)\n",
    "ma = np.r_[np.array([.65, .35])]\n",
    "ma2 = ArmaProcess(ar, ma)\n",
    "y = ma2.generate_sample(1000)\n",
    "tsplot(y)\n",
    "# MA(3)\n",
    "ma = np.r_[np.array([.65, .35, -.4])]\n",
    "ma3 = ArmaProcess(ar, ma)\n",
    "y = ma3.generate_sample(1000)\n",
    "tsplot(y)"
   ]
  },
  {
   "cell_type": "markdown",
   "metadata": {},
   "source": [
    "For MA processes, ACF indicates the order and the sign of coefficients. The number of significant lags is the order. The signs of lags are the same as coefficients."
   ]
  },
  {
   "cell_type": "markdown",
   "metadata": {},
   "source": [
    "## 4.B"
   ]
  },
  {
   "cell_type": "code",
   "execution_count": 178,
   "metadata": {},
   "outputs": [
    {
     "name": "stdout",
     "output_type": "stream",
     "text": [
      "AR1/AR2/AR3\n"
     ]
    },
    {
     "data": {
      "image/png": "[encoded data removed]",
      "text/plain": [
       "<Figure size 1500x400 with 2 Axes>"
      ]
     },
     "metadata": {},
     "output_type": "display_data"
    },
    {
     "data": {
      "image/png": "[encoded data removed]",
      "text/plain": [
       "<Figure size 1500x400 with 2 Axes>"
      ]
     },
     "metadata": {},
     "output_type": "display_data"
    },
    {
     "data": {
      "image/png": "[encoded data removed]",
      "text/plain": [
       "<Figure size 1500x400 with 2 Axes>"
      ]
     },
     "metadata": {},
     "output_type": "display_data"
    }
   ],
   "source": [
    "print(\"AR1/AR2/AR3\")\n",
    "# AR(1)\n",
    "ma = np.r_[1]\n",
    "ar = np.r_[np.array([.75])]\n",
    "ar1 = ArmaProcess(ar, ma)\n",
    "y = ar1.generate_sample(1000)\n",
    "tsplot(y)\n",
    "# AR(2)\n",
    "ar = np.r_[np.array([.75, -.25])]\n",
    "ar2 = ArmaProcess(ar, ma)\n",
    "y = ar2.generate_sample(1000)\n",
    "tsplot(y)\n",
    "# AR(3)\n",
    "ar = np.r_[np.array([.75, -.25, .5])]\n",
    "ar3 = ArmaProcess(ar, ma)\n",
    "y = ar3.generate_sample(1000)\n",
    "tsplot(y)"
   ]
  },
  {
   "cell_type": "markdown",
   "metadata": {},
   "source": [
    "For AR processes, PACF indicates the order and the sign of coefficients. The number of significant lags is the order. The signs of lags are the same as coefficients."
   ]
  },
  {
   "cell_type": "markdown",
   "metadata": {},
   "source": [
    "## 4.C"
   ]
  },
  {
   "cell_type": "code",
   "execution_count": 179,
   "metadata": {},
   "outputs": [
    {
     "data": {
      "image/png": "[encoded data removed]",
      "text/plain": [
       "<Figure size 1500x400 with 2 Axes>"
      ]
     },
     "metadata": {},
     "output_type": "display_data"
    }
   ],
   "source": [
    "data4 = pd.read_csv(\"problem4.csv\")\n",
    "tsplot(data4)"
   ]
  },
  {
   "cell_type": "markdown",
   "metadata": {},
   "source": [
    "I would use AR(4). Since four lags in PACF are significant, the order of the AR model might be 4."
   ]
  },
  {
   "cell_type": "markdown",
   "metadata": {},
   "source": [
    "## 4.D"
   ]
  },
  {
   "cell_type": "code",
   "execution_count": 180,
   "metadata": {},
   "outputs": [
    {
     "name": "stderr",
     "output_type": "stream",
     "text": [
      "/Users/xinkunkang/Documents/FinTech545-KK/Projects/.venv/lib/python3.13/site-packages/statsmodels/tsa/statespace/sarimax.py:966: UserWarning: Non-stationary starting autoregressive parameters found. Using zeros as starting parameters.\n",
      "  warn('Non-stationary starting autoregressive parameters'\n",
      "/Users/xinkunkang/Documents/FinTech545-KK/Projects/.venv/lib/python3.13/site-packages/statsmodels/tsa/statespace/sarimax.py:978: UserWarning: Non-invertible starting MA parameters found. Using zeros as starting parameters.\n",
      "  warn('Non-invertible starting MA parameters found.'\n"
     ]
    },
    {
     "name": "stdout",
     "output_type": "stream",
     "text": [
      "{(2, 3): np.float64(3472.973672501716), (3, 3): np.float64(3474.8371132938178), (2, 4): np.float64(3474.930890513694), (2, 0): np.float64(3475.5175608868103), (4, 3): np.float64(3476.6175013611564), (3, 4): np.float64(3476.795368356203), (2, 1): np.float64(3476.9091388523752), (3, 0): np.float64(3476.9329775024485), (3, 1): np.float64(3477.587933232605), (4, 4): np.float64(3478.6038200628304), (2, 2): np.float64(3478.6939438428576), (4, 0): np.float64(3478.875293320982), (3, 2): np.float64(3479.461543727294), (4, 1): np.float64(3479.506801204213), (4, 2): np.float64(3479.529972038485), (1, 4): np.float64(3511.080705334172), (0, 4): np.float64(3526.1186459783303), (1, 3): np.float64(3534.0830867127484), (0, 3): np.float64(3536.3276650028106), (1, 2): np.float64(3616.787769334701), (0, 2): np.float64(3659.2822173393943), (1, 1): np.float64(3784.309476569365), (0, 1): np.float64(3798.700179910024), (1, 0): np.float64(3958.6655207523613), (0, 0): np.float64(3995.2021842150966)}\n"
     ]
    },
    {
     "data": {
      "text/html": [
       "<div>\n",
       "<style scoped>\n",
       "    .dataframe tbody tr th:only-of-type {\n",
       "        vertical-align: middle;\n",
       "    }\n",
       "\n",
       "    .dataframe tbody tr th {\n",
       "        vertical-align: top;\n",
       "    }\n",
       "\n",
       "    .dataframe thead th {\n",
       "        text-align: right;\n",
       "    }\n",
       "</style>\n",
       "<table border=\"1\" class=\"dataframe\">\n",
       "  <thead>\n",
       "    <tr style=\"text-align: right;\">\n",
       "      <th></th>\n",
       "      <th>AICc</th>\n",
       "    </tr>\n",
       "  </thead>\n",
       "  <tbody>\n",
       "    <tr>\n",
       "      <th>(2, 3)</th>\n",
       "      <td>3472.973673</td>\n",
       "    </tr>\n",
       "    <tr>\n",
       "      <th>(3, 3)</th>\n",
       "      <td>3474.837113</td>\n",
       "    </tr>\n",
       "    <tr>\n",
       "      <th>(2, 4)</th>\n",
       "      <td>3474.930891</td>\n",
       "    </tr>\n",
       "    <tr>\n",
       "      <th>(2, 0)</th>\n",
       "      <td>3475.517561</td>\n",
       "    </tr>\n",
       "    <tr>\n",
       "      <th>(4, 3)</th>\n",
       "      <td>3476.617501</td>\n",
       "    </tr>\n",
       "    <tr>\n",
       "      <th>(3, 4)</th>\n",
       "      <td>3476.795368</td>\n",
       "    </tr>\n",
       "    <tr>\n",
       "      <th>(2, 1)</th>\n",
       "      <td>3476.909139</td>\n",
       "    </tr>\n",
       "    <tr>\n",
       "      <th>(3, 0)</th>\n",
       "      <td>3476.932978</td>\n",
       "    </tr>\n",
       "    <tr>\n",
       "      <th>(3, 1)</th>\n",
       "      <td>3477.587933</td>\n",
       "    </tr>\n",
       "    <tr>\n",
       "      <th>(4, 4)</th>\n",
       "      <td>3478.603820</td>\n",
       "    </tr>\n",
       "    <tr>\n",
       "      <th>(2, 2)</th>\n",
       "      <td>3478.693944</td>\n",
       "    </tr>\n",
       "    <tr>\n",
       "      <th>(4, 0)</th>\n",
       "      <td>3478.875293</td>\n",
       "    </tr>\n",
       "    <tr>\n",
       "      <th>(3, 2)</th>\n",
       "      <td>3479.461544</td>\n",
       "    </tr>\n",
       "    <tr>\n",
       "      <th>(4, 1)</th>\n",
       "      <td>3479.506801</td>\n",
       "    </tr>\n",
       "    <tr>\n",
       "      <th>(4, 2)</th>\n",
       "      <td>3479.529972</td>\n",
       "    </tr>\n",
       "    <tr>\n",
       "      <th>(1, 4)</th>\n",
       "      <td>3511.080705</td>\n",
       "    </tr>\n",
       "    <tr>\n",
       "      <th>(0, 4)</th>\n",
       "      <td>3526.118646</td>\n",
       "    </tr>\n",
       "    <tr>\n",
       "      <th>(1, 3)</th>\n",
       "      <td>3534.083087</td>\n",
       "    </tr>\n",
       "    <tr>\n",
       "      <th>(0, 3)</th>\n",
       "      <td>3536.327665</td>\n",
       "    </tr>\n",
       "    <tr>\n",
       "      <th>(1, 2)</th>\n",
       "      <td>3616.787769</td>\n",
       "    </tr>\n",
       "    <tr>\n",
       "      <th>(0, 2)</th>\n",
       "      <td>3659.282217</td>\n",
       "    </tr>\n",
       "    <tr>\n",
       "      <th>(1, 1)</th>\n",
       "      <td>3784.309477</td>\n",
       "    </tr>\n",
       "    <tr>\n",
       "      <th>(0, 1)</th>\n",
       "      <td>3798.700180</td>\n",
       "    </tr>\n",
       "    <tr>\n",
       "      <th>(1, 0)</th>\n",
       "      <td>3958.665521</td>\n",
       "    </tr>\n",
       "    <tr>\n",
       "      <th>(0, 0)</th>\n",
       "      <td>3995.202184</td>\n",
       "    </tr>\n",
       "  </tbody>\n",
       "</table>\n",
       "</div>"
      ],
      "text/plain": [
       "               AICc\n",
       "(2, 3)  3472.973673\n",
       "(3, 3)  3474.837113\n",
       "(2, 4)  3474.930891\n",
       "(2, 0)  3475.517561\n",
       "(4, 3)  3476.617501\n",
       "(3, 4)  3476.795368\n",
       "(2, 1)  3476.909139\n",
       "(3, 0)  3476.932978\n",
       "(3, 1)  3477.587933\n",
       "(4, 4)  3478.603820\n",
       "(2, 2)  3478.693944\n",
       "(4, 0)  3478.875293\n",
       "(3, 2)  3479.461544\n",
       "(4, 1)  3479.506801\n",
       "(4, 2)  3479.529972\n",
       "(1, 4)  3511.080705\n",
       "(0, 4)  3526.118646\n",
       "(1, 3)  3534.083087\n",
       "(0, 3)  3536.327665\n",
       "(1, 2)  3616.787769\n",
       "(0, 2)  3659.282217\n",
       "(1, 1)  3784.309477\n",
       "(0, 1)  3798.700180\n",
       "(1, 0)  3958.665521\n",
       "(0, 0)  3995.202184"
      ]
     },
     "execution_count": 180,
     "metadata": {},
     "output_type": "execute_result"
    }
   ],
   "source": [
    "models = {}\n",
    "for p in range(5):\n",
    "    for q in range(5):\n",
    "        model = ARIMA(y, order=(p, 0, q)).fit()\n",
    "        k = p + q + 1\n",
    "        aicc = model.aic + (2 * k ** 2 + 2 * k) / (len(data4) - k - 1)\n",
    "        models[(p, q)] = aicc\n",
    "models = dict(sorted(models.items(), key=lambda x: x[1]))\n",
    "print(models)\n",
    "result = pd.DataFrame.from_dict(models, orient='index', columns=['AICc'])\n",
    "result\n"
   ]
  },
  {
   "cell_type": "markdown",
   "metadata": {},
   "source": [
    "After comparing AICc of different models, **AR(2)** has the least AICc, so it is the best fit."
   ]
  },
  {
   "cell_type": "markdown",
   "metadata": {},
   "source": [
    "# Problem 5"
   ]
  },
  {
   "cell_type": "markdown",
   "metadata": {},
   "source": [
    "## 5.A"
   ]
  },
  {
   "cell_type": "code",
   "execution_count": 181,
   "metadata": {},
   "outputs": [
    {
     "data": {
      "text/html": [
       "<div>\n",
       "<style scoped>\n",
       "    .dataframe tbody tr th:only-of-type {\n",
       "        vertical-align: middle;\n",
       "    }\n",
       "\n",
       "    .dataframe tbody tr th {\n",
       "        vertical-align: top;\n",
       "    }\n",
       "\n",
       "    .dataframe thead th {\n",
       "        text-align: right;\n",
       "    }\n",
       "</style>\n",
       "<table border=\"1\" class=\"dataframe\">\n",
       "  <thead>\n",
       "    <tr style=\"text-align: right;\">\n",
       "      <th></th>\n",
       "      <th></th>\n",
       "      <th>SPY</th>\n",
       "      <th>AAPL</th>\n",
       "      <th>NVDA</th>\n",
       "      <th>MSFT</th>\n",
       "      <th>AMZN</th>\n",
       "      <th>META</th>\n",
       "      <th>GOOGL</th>\n",
       "      <th>AVGO</th>\n",
       "      <th>TSLA</th>\n",
       "      <th>GOOG</th>\n",
       "      <th>...</th>\n",
       "      <th>SBUX</th>\n",
       "      <th>MMC</th>\n",
       "      <th>MDT</th>\n",
       "      <th>CB</th>\n",
       "      <th>LMT</th>\n",
       "      <th>KKR</th>\n",
       "      <th>MU</th>\n",
       "      <th>PLD</th>\n",
       "      <th>LRCX</th>\n",
       "      <th>EQIX</th>\n",
       "    </tr>\n",
       "    <tr>\n",
       "      <th>Date</th>\n",
       "      <th></th>\n",
       "      <th></th>\n",
       "      <th></th>\n",
       "      <th></th>\n",
       "      <th></th>\n",
       "      <th></th>\n",
       "      <th></th>\n",
       "      <th></th>\n",
       "      <th></th>\n",
       "      <th></th>\n",
       "      <th></th>\n",
       "      <th></th>\n",
       "      <th></th>\n",
       "      <th></th>\n",
       "      <th></th>\n",
       "      <th></th>\n",
       "      <th></th>\n",
       "      <th></th>\n",
       "      <th></th>\n",
       "      <th></th>\n",
       "      <th></th>\n",
       "      <th></th>\n",
       "    </tr>\n",
       "  </thead>\n",
       "  <tbody>\n",
       "    <tr>\n",
       "      <th rowspan=\"11\" valign=\"top\">2025-01-03</th>\n",
       "      <th>SPY</th>\n",
       "      <td>0.000073</td>\n",
       "      <td>0.000055</td>\n",
       "      <td>0.000126</td>\n",
       "      <td>0.000082</td>\n",
       "      <td>0.000113</td>\n",
       "      <td>0.000082</td>\n",
       "      <td>0.000089</td>\n",
       "      <td>0.000179</td>\n",
       "      <td>0.000238</td>\n",
       "      <td>0.000090</td>\n",
       "      <td>...</td>\n",
       "      <td>0.000041</td>\n",
       "      <td>0.000031</td>\n",
       "      <td>0.000030</td>\n",
       "      <td>0.000028</td>\n",
       "      <td>0.000026</td>\n",
       "      <td>0.000137</td>\n",
       "      <td>0.000150</td>\n",
       "      <td>0.000060</td>\n",
       "      <td>0.000129</td>\n",
       "      <td>0.000053</td>\n",
       "    </tr>\n",
       "    <tr>\n",
       "      <th>AAPL</th>\n",
       "      <td>0.000055</td>\n",
       "      <td>0.000141</td>\n",
       "      <td>0.000041</td>\n",
       "      <td>0.000085</td>\n",
       "      <td>0.000082</td>\n",
       "      <td>0.000057</td>\n",
       "      <td>0.000072</td>\n",
       "      <td>0.000142</td>\n",
       "      <td>0.000176</td>\n",
       "      <td>0.000072</td>\n",
       "      <td>...</td>\n",
       "      <td>0.000008</td>\n",
       "      <td>0.000014</td>\n",
       "      <td>0.000008</td>\n",
       "      <td>0.000026</td>\n",
       "      <td>0.000003</td>\n",
       "      <td>0.000042</td>\n",
       "      <td>0.000056</td>\n",
       "      <td>0.000061</td>\n",
       "      <td>0.000085</td>\n",
       "      <td>0.000038</td>\n",
       "    </tr>\n",
       "    <tr>\n",
       "      <th>NVDA</th>\n",
       "      <td>0.000126</td>\n",
       "      <td>0.000041</td>\n",
       "      <td>0.000673</td>\n",
       "      <td>0.000135</td>\n",
       "      <td>0.000199</td>\n",
       "      <td>0.000189</td>\n",
       "      <td>0.000147</td>\n",
       "      <td>0.000227</td>\n",
       "      <td>0.000239</td>\n",
       "      <td>0.000150</td>\n",
       "      <td>...</td>\n",
       "      <td>0.000038</td>\n",
       "      <td>0.000012</td>\n",
       "      <td>0.000008</td>\n",
       "      <td>-0.000009</td>\n",
       "      <td>0.000028</td>\n",
       "      <td>0.000224</td>\n",
       "      <td>0.000309</td>\n",
       "      <td>0.000014</td>\n",
       "      <td>0.000327</td>\n",
       "      <td>0.000050</td>\n",
       "    </tr>\n",
       "    <tr>\n",
       "      <th>MSFT</th>\n",
       "      <td>0.000082</td>\n",
       "      <td>0.000085</td>\n",
       "      <td>0.000135</td>\n",
       "      <td>0.000163</td>\n",
       "      <td>0.000176</td>\n",
       "      <td>0.000128</td>\n",
       "      <td>0.000124</td>\n",
       "      <td>0.000199</td>\n",
       "      <td>0.000283</td>\n",
       "      <td>0.000124</td>\n",
       "      <td>...</td>\n",
       "      <td>0.000017</td>\n",
       "      <td>0.000026</td>\n",
       "      <td>0.000018</td>\n",
       "      <td>0.000024</td>\n",
       "      <td>-0.000015</td>\n",
       "      <td>0.000107</td>\n",
       "      <td>0.000153</td>\n",
       "      <td>0.000062</td>\n",
       "      <td>0.000154</td>\n",
       "      <td>0.000055</td>\n",
       "    </tr>\n",
       "    <tr>\n",
       "      <th>AMZN</th>\n",
       "      <td>0.000113</td>\n",
       "      <td>0.000082</td>\n",
       "      <td>0.000199</td>\n",
       "      <td>0.000176</td>\n",
       "      <td>0.000328</td>\n",
       "      <td>0.000190</td>\n",
       "      <td>0.000204</td>\n",
       "      <td>0.000300</td>\n",
       "      <td>0.000378</td>\n",
       "      <td>0.000202</td>\n",
       "      <td>...</td>\n",
       "      <td>0.000020</td>\n",
       "      <td>0.000021</td>\n",
       "      <td>0.000013</td>\n",
       "      <td>0.000015</td>\n",
       "      <td>-0.000008</td>\n",
       "      <td>0.000191</td>\n",
       "      <td>0.000175</td>\n",
       "      <td>0.000057</td>\n",
       "      <td>0.000188</td>\n",
       "      <td>0.000072</td>\n",
       "    </tr>\n",
       "    <tr>\n",
       "      <th>...</th>\n",
       "      <td>...</td>\n",
       "      <td>...</td>\n",
       "      <td>...</td>\n",
       "      <td>...</td>\n",
       "      <td>...</td>\n",
       "      <td>...</td>\n",
       "      <td>...</td>\n",
       "      <td>...</td>\n",
       "      <td>...</td>\n",
       "      <td>...</td>\n",
       "      <td>...</td>\n",
       "      <td>...</td>\n",
       "      <td>...</td>\n",
       "      <td>...</td>\n",
       "      <td>...</td>\n",
       "      <td>...</td>\n",
       "      <td>...</td>\n",
       "      <td>...</td>\n",
       "      <td>...</td>\n",
       "      <td>...</td>\n",
       "      <td>...</td>\n",
       "    </tr>\n",
       "    <tr>\n",
       "      <th>KKR</th>\n",
       "      <td>0.000137</td>\n",
       "      <td>0.000042</td>\n",
       "      <td>0.000224</td>\n",
       "      <td>0.000107</td>\n",
       "      <td>0.000191</td>\n",
       "      <td>0.000121</td>\n",
       "      <td>0.000164</td>\n",
       "      <td>0.000280</td>\n",
       "      <td>0.000489</td>\n",
       "      <td>0.000166</td>\n",
       "      <td>...</td>\n",
       "      <td>0.000089</td>\n",
       "      <td>0.000070</td>\n",
       "      <td>0.000059</td>\n",
       "      <td>0.000071</td>\n",
       "      <td>0.000065</td>\n",
       "      <td>0.000425</td>\n",
       "      <td>0.000257</td>\n",
       "      <td>0.000066</td>\n",
       "      <td>0.000196</td>\n",
       "      <td>0.000100</td>\n",
       "    </tr>\n",
       "    <tr>\n",
       "      <th>MU</th>\n",
       "      <td>0.000150</td>\n",
       "      <td>0.000056</td>\n",
       "      <td>0.000309</td>\n",
       "      <td>0.000153</td>\n",
       "      <td>0.000175</td>\n",
       "      <td>0.000167</td>\n",
       "      <td>0.000169</td>\n",
       "      <td>0.000911</td>\n",
       "      <td>0.000487</td>\n",
       "      <td>0.000183</td>\n",
       "      <td>...</td>\n",
       "      <td>0.000073</td>\n",
       "      <td>-0.000004</td>\n",
       "      <td>0.000026</td>\n",
       "      <td>-0.000007</td>\n",
       "      <td>0.000036</td>\n",
       "      <td>0.000257</td>\n",
       "      <td>0.001497</td>\n",
       "      <td>0.000158</td>\n",
       "      <td>0.000717</td>\n",
       "      <td>0.000087</td>\n",
       "    </tr>\n",
       "    <tr>\n",
       "      <th>PLD</th>\n",
       "      <td>0.000060</td>\n",
       "      <td>0.000061</td>\n",
       "      <td>0.000014</td>\n",
       "      <td>0.000062</td>\n",
       "      <td>0.000057</td>\n",
       "      <td>0.000014</td>\n",
       "      <td>0.000026</td>\n",
       "      <td>0.000065</td>\n",
       "      <td>0.000122</td>\n",
       "      <td>0.000030</td>\n",
       "      <td>...</td>\n",
       "      <td>0.000084</td>\n",
       "      <td>0.000045</td>\n",
       "      <td>0.000059</td>\n",
       "      <td>0.000033</td>\n",
       "      <td>0.000029</td>\n",
       "      <td>0.000066</td>\n",
       "      <td>0.000158</td>\n",
       "      <td>0.000254</td>\n",
       "      <td>0.000086</td>\n",
       "      <td>0.000089</td>\n",
       "    </tr>\n",
       "    <tr>\n",
       "      <th>LRCX</th>\n",
       "      <td>0.000129</td>\n",
       "      <td>0.000085</td>\n",
       "      <td>0.000327</td>\n",
       "      <td>0.000154</td>\n",
       "      <td>0.000188</td>\n",
       "      <td>0.000232</td>\n",
       "      <td>0.000161</td>\n",
       "      <td>0.000592</td>\n",
       "      <td>0.000449</td>\n",
       "      <td>0.000165</td>\n",
       "      <td>...</td>\n",
       "      <td>0.000073</td>\n",
       "      <td>0.000006</td>\n",
       "      <td>0.000017</td>\n",
       "      <td>0.000009</td>\n",
       "      <td>-0.000018</td>\n",
       "      <td>0.000196</td>\n",
       "      <td>0.000717</td>\n",
       "      <td>0.000086</td>\n",
       "      <td>0.000750</td>\n",
       "      <td>0.000075</td>\n",
       "    </tr>\n",
       "    <tr>\n",
       "      <th>EQIX</th>\n",
       "      <td>0.000053</td>\n",
       "      <td>0.000038</td>\n",
       "      <td>0.000050</td>\n",
       "      <td>0.000055</td>\n",
       "      <td>0.000072</td>\n",
       "      <td>0.000075</td>\n",
       "      <td>0.000052</td>\n",
       "      <td>0.000065</td>\n",
       "      <td>0.000156</td>\n",
       "      <td>0.000053</td>\n",
       "      <td>...</td>\n",
       "      <td>0.000060</td>\n",
       "      <td>0.000046</td>\n",
       "      <td>0.000026</td>\n",
       "      <td>0.000030</td>\n",
       "      <td>0.000006</td>\n",
       "      <td>0.000100</td>\n",
       "      <td>0.000087</td>\n",
       "      <td>0.000089</td>\n",
       "      <td>0.000075</td>\n",
       "      <td>0.000156</td>\n",
       "    </tr>\n",
       "  </tbody>\n",
       "</table>\n",
       "<p>100 rows × 100 columns</p>\n",
       "</div>"
      ],
      "text/plain": [
       "                      SPY      AAPL      NVDA      MSFT      AMZN      META  \\\n",
       "Date                                                                          \n",
       "2025-01-03 SPY   0.000073  0.000055  0.000126  0.000082  0.000113  0.000082   \n",
       "           AAPL  0.000055  0.000141  0.000041  0.000085  0.000082  0.000057   \n",
       "           NVDA  0.000126  0.000041  0.000673  0.000135  0.000199  0.000189   \n",
       "           MSFT  0.000082  0.000085  0.000135  0.000163  0.000176  0.000128   \n",
       "           AMZN  0.000113  0.000082  0.000199  0.000176  0.000328  0.000190   \n",
       "...                   ...       ...       ...       ...       ...       ...   \n",
       "           KKR   0.000137  0.000042  0.000224  0.000107  0.000191  0.000121   \n",
       "           MU    0.000150  0.000056  0.000309  0.000153  0.000175  0.000167   \n",
       "           PLD   0.000060  0.000061  0.000014  0.000062  0.000057  0.000014   \n",
       "           LRCX  0.000129  0.000085  0.000327  0.000154  0.000188  0.000232   \n",
       "           EQIX  0.000053  0.000038  0.000050  0.000055  0.000072  0.000075   \n",
       "\n",
       "                    GOOGL      AVGO      TSLA      GOOG  ...      SBUX  \\\n",
       "Date                                                     ...             \n",
       "2025-01-03 SPY   0.000089  0.000179  0.000238  0.000090  ...  0.000041   \n",
       "           AAPL  0.000072  0.000142  0.000176  0.000072  ...  0.000008   \n",
       "           NVDA  0.000147  0.000227  0.000239  0.000150  ...  0.000038   \n",
       "           MSFT  0.000124  0.000199  0.000283  0.000124  ...  0.000017   \n",
       "           AMZN  0.000204  0.000300  0.000378  0.000202  ...  0.000020   \n",
       "...                   ...       ...       ...       ...  ...       ...   \n",
       "           KKR   0.000164  0.000280  0.000489  0.000166  ...  0.000089   \n",
       "           MU    0.000169  0.000911  0.000487  0.000183  ...  0.000073   \n",
       "           PLD   0.000026  0.000065  0.000122  0.000030  ...  0.000084   \n",
       "           LRCX  0.000161  0.000592  0.000449  0.000165  ...  0.000073   \n",
       "           EQIX  0.000052  0.000065  0.000156  0.000053  ...  0.000060   \n",
       "\n",
       "                      MMC       MDT        CB       LMT       KKR        MU  \\\n",
       "Date                                                                          \n",
       "2025-01-03 SPY   0.000031  0.000030  0.000028  0.000026  0.000137  0.000150   \n",
       "           AAPL  0.000014  0.000008  0.000026  0.000003  0.000042  0.000056   \n",
       "           NVDA  0.000012  0.000008 -0.000009  0.000028  0.000224  0.000309   \n",
       "           MSFT  0.000026  0.000018  0.000024 -0.000015  0.000107  0.000153   \n",
       "           AMZN  0.000021  0.000013  0.000015 -0.000008  0.000191  0.000175   \n",
       "...                   ...       ...       ...       ...       ...       ...   \n",
       "           KKR   0.000070  0.000059  0.000071  0.000065  0.000425  0.000257   \n",
       "           MU   -0.000004  0.000026 -0.000007  0.000036  0.000257  0.001497   \n",
       "           PLD   0.000045  0.000059  0.000033  0.000029  0.000066  0.000158   \n",
       "           LRCX  0.000006  0.000017  0.000009 -0.000018  0.000196  0.000717   \n",
       "           EQIX  0.000046  0.000026  0.000030  0.000006  0.000100  0.000087   \n",
       "\n",
       "                      PLD      LRCX      EQIX  \n",
       "Date                                           \n",
       "2025-01-03 SPY   0.000060  0.000129  0.000053  \n",
       "           AAPL  0.000061  0.000085  0.000038  \n",
       "           NVDA  0.000014  0.000327  0.000050  \n",
       "           MSFT  0.000062  0.000154  0.000055  \n",
       "           AMZN  0.000057  0.000188  0.000072  \n",
       "...                   ...       ...       ...  \n",
       "           KKR   0.000066  0.000196  0.000100  \n",
       "           MU    0.000158  0.000717  0.000087  \n",
       "           PLD   0.000254  0.000086  0.000089  \n",
       "           LRCX  0.000086  0.000750  0.000075  \n",
       "           EQIX  0.000089  0.000075  0.000156  \n",
       "\n",
       "[100 rows x 100 columns]"
      ]
     },
     "execution_count": 181,
     "metadata": {},
     "output_type": "execute_result"
    }
   ],
   "source": [
    "data5 =pd.read_csv(\"DailyReturn.csv\", index_col=\"Date\")\n",
    "l = .97\n",
    "ewm_cov_matrix = data5.ewm(alpha=1-l, adjust=True).cov(pairwise=True).iloc[-len(data5.columns):]\n",
    "ewm_cov_matrix"
   ]
  },
  {
   "cell_type": "markdown",
   "metadata": {},
   "source": [
    "## 5.B"
   ]
  },
  {
   "cell_type": "code",
   "execution_count": 182,
   "metadata": {},
   "outputs": [
    {
     "data": {
      "image/png": "[encoded data removed]",
      "text/plain": [
       "<Figure size 640x480 with 1 Axes>"
      ]
     },
     "metadata": {},
     "output_type": "display_data"
    }
   ],
   "source": [
    "from sklearn.decomposition import PCA\n",
    "\n",
    "lambda_values = [.99, .97, .94, .90, .75, .50]\n",
    "for l in lambda_values:\n",
    "    cov_matrix = data5.ewm(alpha=1-l, adjust=True).cov(pairwise=True).iloc[-len(data5.columns):]\n",
    "    pca = PCA()\n",
    "    pca.fit(cov_matrix)\n",
    "    cumulative_variance = np.cumsum(pca.explained_variance_ratio_)\n",
    "    plt.plot(cumulative_variance, label=f'λ={l:.2f}')\n",
    "\n",
    "plt.xlabel('Number of Components')\n",
    "plt.ylabel('Cumulative Explained Variance')\n",
    "plt.legend()\n",
    "plt.show()"
   ]
  },
  {
   "cell_type": "markdown",
   "metadata": {},
   "source": [
    "## 5.C"
   ]
  },
  {
   "cell_type": "markdown",
   "metadata": {},
   "source": [
    "When $\\lambda$ is greater, more weight is given to recent observations, and more components are needed to explain the variance. "
   ]
  },
  {
   "cell_type": "markdown",
   "metadata": {},
   "source": [
    "# Problem 6"
   ]
  },
  {
   "cell_type": "markdown",
   "metadata": {},
   "source": [
    "## 6.A"
   ]
  },
  {
   "cell_type": "code",
   "execution_count": 183,
   "metadata": {},
   "outputs": [],
   "source": [
    "import statsmodels.stats as st"
   ]
  },
  {
   "cell_type": "code",
   "execution_count": 203,
   "metadata": {},
   "outputs": [
    {
     "name": "stdout",
     "output_type": "stream",
     "text": [
      "[[-0.0276929   0.09103946 -0.01382116 ...  0.03641649  0.00689754\n",
      "  -0.00024638]\n",
      " [ 0.08891714 -0.01107034  0.22684868 ...  0.06326584  0.03342219\n",
      "  -0.00931384]\n",
      " [ 0.07236268 -0.00758801  0.01514524 ...  0.04914396 -0.02217009\n",
      "   0.00520904]\n",
      " ...\n",
      " [-0.04575931  0.00175756 -0.04145118 ...  0.03697378 -0.10085683\n",
      "  -0.02584803]\n",
      " [ 0.00307359  0.03769386 -0.03142074 ...  0.09109808  0.05374363\n",
      "   0.03720339]\n",
      " [ 0.16324299  0.05059093 -0.00189914 ...  0.09393726 -0.01270218\n",
      "  -0.00877576]]\n"
     ]
    }
   ],
   "source": [
    "data6 = pd.read_csv(\"problem6.csv\").values\n",
    "cov_mat_psd = nearest_psd_higham(data6, 1e-8, 100)\n",
    "L = np.linalg.cholesky(cov_mat_psd)\n",
    "# Cholesky\n",
    "size = 10000\n",
    "Z = np.random.randn(size, cov_mat_psd.shape[0]).T\n",
    "\n",
    "sim_cholesky = (L @ Z).T\n",
    "print(sim_cholesky)\n"
   ]
  },
  {
   "cell_type": "markdown",
   "metadata": {},
   "source": [
    "## 6.B"
   ]
  },
  {
   "cell_type": "code",
   "execution_count": 204,
   "metadata": {},
   "outputs": [
    {
     "name": "stdout",
     "output_type": "stream",
     "text": [
      "[[ 3.52723499e-04 -2.11627454e-04 -4.08740005e-04 ... -9.22385424e-05\n",
      "   4.06436950e-04 -1.89788724e-05]\n",
      " [ 1.98589068e-04  2.48737939e-04 -6.40245952e-04 ... -4.62718045e-04\n",
      "   3.93091555e-04  8.10802356e-05]\n",
      " [-2.33628878e-04 -3.44454372e-04 -1.13269788e-04 ... -1.58222826e-04\n",
      "  -5.75297577e-04 -8.06520567e-05]\n",
      " ...\n",
      " [-4.93025440e-04 -6.42649869e-05 -4.03812749e-04 ...  2.22781431e-04\n",
      "  -4.77609867e-04  2.56780181e-05]\n",
      " [-2.44695149e-04 -9.05137133e-05  3.15281422e-04 ...  8.48610403e-05\n",
      "   6.42719313e-04  2.70322706e-05]\n",
      " [ 9.10418641e-04  1.22797224e-04 -4.03355171e-04 ... -2.81364735e-04\n",
      "   7.21149957e-04  7.45835008e-05]]\n"
     ]
    }
   ],
   "source": [
    "# PCA\n",
    "pca = PCA()\n",
    "pca.fit(data6)\n",
    "cum_var = np.cumsum(pca.explained_variance_ratio_)\n",
    "n_components = np.argmax(cum_var >= 0.75) + 1 \n",
    "pca = PCA(n_components=n_components, svd_solver='full')\n",
    "pca.fit(data6)\n",
    "sim_pca = np.random.randn(size, n_components) @ np.diag(np.sqrt(pca.explained_variance_)) @ pca.components_\n",
    "print(sim_pca)"
   ]
  },
  {
   "cell_type": "markdown",
   "metadata": {},
   "source": [
    "## 6.C"
   ]
  },
  {
   "cell_type": "code",
   "execution_count": 205,
   "metadata": {},
   "outputs": [
    {
     "name": "stdout",
     "output_type": "stream",
     "text": [
      "Original:  0.26030588695130713\n",
      "Cholesky:  0.2613384682506173\n",
      "PCA:  2.0524475387529616e-05\n"
     ]
    }
   ],
   "source": [
    "cov_cholesky = np.cov(sim_cholesky.T)\n",
    "cov_pca = np.cov(sim_pca.T)\n",
    "\n",
    "norm_original = np.linalg.norm(data6, 'fro')\n",
    "norm_cholesky = np.linalg.norm(cov_cholesky, 'fro')\n",
    "norm_pca = np.linalg.norm(cov_pca, 'fro')\n",
    "print(\"Original: \", norm_original)\n",
    "print(\"Cholesky: \", norm_cholesky)\n",
    "print(\"PCA: \", norm_pca)"
   ]
  },
  {
   "cell_type": "markdown",
   "metadata": {},
   "source": [
    "The Frobenius norm of simulation using Cholesky is close to the original value. PCA is much less compared to the other two."
   ]
  },
  {
   "cell_type": "markdown",
   "metadata": {},
   "source": [
    "## 6.D"
   ]
  },
  {
   "cell_type": "code",
   "execution_count": 206,
   "metadata": {},
   "outputs": [
    {
     "name": "stdout",
     "output_type": "stream",
     "text": [
      "Original: \n",
      " [0.02761939 0.05418435 0.07962796 0.10481583 0.12919237 0.15320067\n",
      " 0.17563346 0.19767436 0.21917739 0.24025578 0.26091835 0.28112831\n",
      " 0.30123289 0.32109985 0.34021781 0.35891413 0.3771812  0.39525532\n",
      " 0.41286727 0.43011022 0.44715547 0.4636013  0.47996073 0.49571076\n",
      " 0.51142897 0.52652034 0.54106345 0.55554076 0.56978505 0.58370873\n",
      " 0.59734631 0.61072527 0.62367645 0.63636435 0.648597   0.66077886\n",
      " 0.67279265 0.68464285 0.69600906 0.70713825 0.71790311 0.72858805\n",
      " 0.73884301 0.74903246 0.75901601 0.76889913 0.77836579 0.78742257\n",
      " 0.79639387 0.80526487 0.813869   0.82233376 0.83046601 0.83850267\n",
      " 0.84614709 0.85362782 0.86074911 0.86759656 0.87427735 0.88081977\n",
      " 0.88713297 0.89334538 0.89950361 0.90534239 0.91096358 0.91654004\n",
      " 0.9217448  0.92677263 0.93168606 0.93636474 0.94096476 0.94540556\n",
      " 0.94973381 0.95379628 0.95769382 0.96134215 0.96465242 0.96784099\n",
      " 0.97087969 0.97374815 0.97655565 0.97918366 0.98165612 0.98400844\n",
      " 0.98625171 0.98814044 0.98994853 0.99164101 0.99320758 0.99466467\n",
      " 0.99589135 0.997069   0.99812919 0.99899461 0.99956207 0.99977704\n",
      " 0.99995367 0.99999992 0.99999992 0.99999992 0.99999992 0.99999993\n",
      " 0.99999993 0.99999993 0.99999993 0.99999993 0.99999993 0.99999994\n",
      " 0.99999994 0.99999994 0.99999994 0.99999994 0.99999994 0.99999994\n",
      " 0.99999994 0.99999995 0.99999995 0.99999995 0.99999995 0.99999995\n",
      " 0.99999995 0.99999995 0.99999995 0.99999995 0.99999996 0.99999996\n",
      " 0.99999996 0.99999996 0.99999996 0.99999996 0.99999996 0.99999996\n",
      " 0.99999996 0.99999996 0.99999996 0.99999996 0.99999997 0.99999997\n",
      " 0.99999997 0.99999997 0.99999997 0.99999997 0.99999997 0.99999997\n",
      " 0.99999997 0.99999997 0.99999997 0.99999997 0.99999997 0.99999997\n",
      " 0.99999997 0.99999998 0.99999998 0.99999998 0.99999998 0.99999998\n",
      " 0.99999998 0.99999998 0.99999998 0.99999998 0.99999998 0.99999998\n",
      " 0.99999998 0.99999998 0.99999998 0.99999998 0.99999998 0.99999998\n",
      " 0.99999998 0.99999998 0.99999998 0.99999999 0.99999999 0.99999999\n",
      " 0.99999999 0.99999999 0.99999999 0.99999999 0.99999999 0.99999999\n",
      " 0.99999999 0.99999999 0.99999999 0.99999999 0.99999999 0.99999999\n",
      " 0.99999999 0.99999999 0.99999999 0.99999999 0.99999999 0.99999999\n",
      " 0.99999999 0.99999999 0.99999999 0.99999999 0.99999999 0.99999999\n",
      " 0.99999999 0.99999999 0.99999999 0.99999999 0.99999999 0.99999999\n",
      " 0.99999999 1.         1.         1.         1.         1.\n",
      " 1.         1.         1.         1.         1.         1.\n",
      " 1.         1.         1.         1.         1.         1.\n",
      " 1.         1.         1.         1.         1.         1.\n",
      " 1.         1.         1.         1.         1.         1.\n",
      " 1.         1.         1.         1.         1.         1.\n",
      " 1.         1.         1.         1.         1.         1.\n",
      " 1.         1.         1.         1.         1.         1.\n",
      " 1.         1.         1.         1.         1.         1.\n",
      " 1.         1.         1.         1.         1.         1.\n",
      " 1.         1.         1.         1.         1.         1.\n",
      " 1.         1.         1.         1.         1.         1.\n",
      " 1.         1.         1.         1.         1.         1.\n",
      " 1.         1.         1.         1.         1.         1.\n",
      " 1.         1.         1.         1.         1.         1.\n",
      " 1.         1.         1.         1.         1.         1.\n",
      " 1.         1.         1.         1.         1.         1.\n",
      " 1.         1.         1.         1.         1.         1.\n",
      " 1.         1.         1.         1.         1.         1.\n",
      " 1.         1.         1.         1.         1.         1.\n",
      " 1.         1.         1.         1.         1.         1.\n",
      " 1.         1.         1.         1.         1.         1.\n",
      " 1.         1.         1.         1.         1.         1.\n",
      " 1.         1.         1.         1.         1.         1.\n",
      " 1.         1.         1.         1.         1.         1.\n",
      " 1.         1.         1.         1.         1.         1.\n",
      " 1.         1.         1.         1.         1.         1.\n",
      " 1.         1.         1.         1.         1.         1.\n",
      " 1.         1.         1.         1.         1.         1.\n",
      " 1.         1.         1.         1.         1.         1.\n",
      " 1.         1.         1.         1.         1.         1.\n",
      " 1.         1.         1.         1.         1.         1.\n",
      " 1.         1.         1.         1.         1.         1.\n",
      " 1.         1.         1.         1.         1.         1.\n",
      " 1.         1.         1.         1.         1.         1.\n",
      " 1.         1.         1.         1.         1.         1.\n",
      " 1.         1.         1.         1.         1.         1.\n",
      " 1.         1.         1.         1.         1.         1.\n",
      " 1.         1.         1.         1.         1.         1.\n",
      " 1.         1.         1.         1.         1.         1.\n",
      " 1.         1.         1.         1.         1.         1.\n",
      " 1.         1.         1.         1.         1.         1.\n",
      " 1.         1.         1.         1.         1.         1.\n",
      " 1.         1.         1.         1.         1.         1.\n",
      " 1.         1.         1.         1.         1.         1.\n",
      " 1.         1.         1.         1.         1.         1.\n",
      " 1.         1.         1.         1.         1.         1.\n",
      " 1.         1.         1.         1.         1.         1.\n",
      " 1.         1.         1.         1.         1.         1.\n",
      " 1.         1.        ]\n",
      "Cholesky: \n",
      " [0.02799009 0.05489891 0.08018125 0.10507348 0.12963673 0.15372477\n",
      " 0.17630181 0.19844084 0.22034555 0.24151854 0.26236538 0.28304485\n",
      " 0.30325102 0.32310067 0.34228894 0.36128131 0.37950776 0.39756363\n",
      " 0.41525428 0.43262066 0.44973012 0.46598171 0.48188272 0.49758924\n",
      " 0.5130974  0.52831965 0.54320976 0.55775337 0.57212019 0.58596725\n",
      " 0.59955109 0.61303149 0.62616947 0.63880477 0.65115717 0.66311992\n",
      " 0.67498195 0.68673722 0.69816501 0.7094502  0.72052101 0.73124201\n",
      " 0.74145744 0.75152882 0.76146585 0.77122892 0.78087631 0.79003278\n",
      " 0.79895406 0.80781074 0.81633048 0.8246511  0.83275025 0.84061326\n",
      " 0.84811663 0.85530134 0.86237409 0.86933808 0.87599239 0.88255469\n",
      " 0.88889836 0.89491867 0.90089014 0.90668234 0.91228294 0.9177494\n",
      " 0.92290244 0.92780783 0.93260511 0.93724662 0.9417709  0.94621001\n",
      " 0.95037857 0.9543273  0.95822613 0.96178198 0.96506414 0.96825136\n",
      " 0.97135343 0.97416913 0.97694831 0.97948073 0.98189565 0.98424983\n",
      " 0.98643555 0.98830591 0.99008465 0.99178366 0.9933125  0.99471664\n",
      " 0.99595792 0.99713416 0.99817836 0.99902603 0.99957282 0.99978263\n",
      " 0.99995513 0.99999992 0.99999992 0.99999992 0.99999992 0.99999992\n",
      " 0.99999993 0.99999993 0.99999993 0.99999993 0.99999993 0.99999993\n",
      " 0.99999994 0.99999994 0.99999994 0.99999994 0.99999994 0.99999994\n",
      " 0.99999994 0.99999994 0.99999995 0.99999995 0.99999995 0.99999995\n",
      " 0.99999995 0.99999995 0.99999995 0.99999995 0.99999995 0.99999995\n",
      " 0.99999996 0.99999996 0.99999996 0.99999996 0.99999996 0.99999996\n",
      " 0.99999996 0.99999996 0.99999996 0.99999996 0.99999996 0.99999996\n",
      " 0.99999996 0.99999997 0.99999997 0.99999997 0.99999997 0.99999997\n",
      " 0.99999997 0.99999997 0.99999997 0.99999997 0.99999997 0.99999997\n",
      " 0.99999997 0.99999997 0.99999997 0.99999997 0.99999997 0.99999998\n",
      " 0.99999998 0.99999998 0.99999998 0.99999998 0.99999998 0.99999998\n",
      " 0.99999998 0.99999998 0.99999998 0.99999998 0.99999998 0.99999998\n",
      " 0.99999998 0.99999998 0.99999998 0.99999998 0.99999998 0.99999998\n",
      " 0.99999998 0.99999998 0.99999998 0.99999998 0.99999998 0.99999999\n",
      " 0.99999999 0.99999999 0.99999999 0.99999999 0.99999999 0.99999999\n",
      " 0.99999999 0.99999999 0.99999999 0.99999999 0.99999999 0.99999999\n",
      " 0.99999999 0.99999999 0.99999999 0.99999999 0.99999999 0.99999999\n",
      " 0.99999999 0.99999999 0.99999999 0.99999999 0.99999999 0.99999999\n",
      " 0.99999999 0.99999999 0.99999999 0.99999999 0.99999999 0.99999999\n",
      " 0.99999999 0.99999999 0.99999999 0.99999999 0.99999999 0.99999999\n",
      " 0.99999999 0.99999999 0.99999999 0.99999999 0.99999999 0.99999999\n",
      " 0.99999999 0.99999999 0.99999999 0.99999999 0.99999999 1.\n",
      " 1.         1.         1.         1.         1.         1.\n",
      " 1.         1.         1.         1.         1.         1.\n",
      " 1.         1.         1.         1.         1.         1.\n",
      " 1.         1.         1.         1.         1.         1.\n",
      " 1.         1.         1.         1.         1.         1.\n",
      " 1.         1.         1.         1.         1.         1.\n",
      " 1.         1.         1.         1.         1.         1.\n",
      " 1.         1.         1.         1.         1.         1.\n",
      " 1.         1.         1.         1.         1.         1.\n",
      " 1.         1.         1.         1.         1.         1.\n",
      " 1.         1.         1.         1.         1.         1.\n",
      " 1.         1.         1.         1.         1.         1.\n",
      " 1.         1.         1.         1.         1.         1.\n",
      " 1.         1.         1.         1.         1.         1.\n",
      " 1.         1.         1.         1.         1.         1.\n",
      " 1.         1.         1.         1.         1.         1.\n",
      " 1.         1.         1.         1.         1.         1.\n",
      " 1.         1.         1.         1.         1.         1.\n",
      " 1.         1.         1.         1.         1.         1.\n",
      " 1.         1.         1.         1.         1.         1.\n",
      " 1.         1.         1.         1.         1.         1.\n",
      " 1.         1.         1.         1.         1.         1.\n",
      " 1.         1.         1.         1.         1.         1.\n",
      " 1.         1.         1.         1.         1.         1.\n",
      " 1.         1.         1.         1.         1.         1.\n",
      " 1.         1.         1.         1.         1.         1.\n",
      " 1.         1.         1.         1.         1.         1.\n",
      " 1.         1.         1.         1.         1.         1.\n",
      " 1.         1.         1.         1.         1.         1.\n",
      " 1.         1.         1.         1.         1.         1.\n",
      " 1.         1.         1.         1.         1.         1.\n",
      " 1.         1.         1.         1.         1.         1.\n",
      " 1.         1.         1.         1.         1.         1.\n",
      " 1.         1.         1.         1.         1.         1.\n",
      " 1.         1.         1.         1.         1.         1.\n",
      " 1.         1.         1.         1.         1.         1.\n",
      " 1.         1.         1.         1.         1.         1.\n",
      " 1.         1.         1.         1.         1.         1.\n",
      " 1.         1.         1.         1.         1.         1.\n",
      " 1.         1.         1.         1.         1.         1.\n",
      " 1.         1.         1.         1.         1.         1.\n",
      " 1.         1.         1.         1.         1.         1.\n",
      " 1.         1.         1.         1.         1.         1.\n",
      " 1.         1.         1.         1.         1.         1.\n",
      " 1.         1.         1.         1.         1.         1.\n",
      " 1.         1.        ]\n",
      "PCA: \n",
      " [0.06668466+7.63139442e-36j 0.12903775+1.47670842e-35j\n",
      " 0.18474859+2.11426346e-35j 0.23980184+2.74429299e-35j\n",
      " 0.29151111+3.33605413e-35j 0.34035095+3.89497735e-35j\n",
      " 0.38456759+4.40099280e-35j 0.42727056+4.88968570e-35j\n",
      " 0.46724699+5.34717609e-35j 0.50523728+5.78193713e-35j\n",
      " 0.54122187+6.19374490e-35j 0.57651281+6.59761447e-35j\n",
      " 0.61111099+6.99355617e-35j 0.64480547+7.37915588e-35j\n",
      " 0.67599117+7.73604519e-35j 0.70646689+8.08480942e-35j\n",
      " 0.73494491+8.41071199e-35j 0.76264439+8.72770490e-35j\n",
      " 0.78954994+9.03561212e-35j 0.81461534+9.32246064e-35j\n",
      " 0.83963252+9.60875726e-35j 0.8625597 +9.87113602e-35j\n",
      " 0.88488317+1.01266059e-34j 0.90619426+1.03704900e-34j\n",
      " 0.92708318+1.06095429e-34j 0.94682301+1.08354456e-34j\n",
      " 0.96514356+1.10451060e-34j 0.98286244+1.12478809e-34j\n",
      " 1.        +1.14440033e-34j 1.        +1.14440033e-34j\n",
      " 1.        +1.14440033e-34j 1.        +1.14440033e-34j\n",
      " 1.        +4.66837039e-19j 1.        +1.14440033e-34j\n",
      " 1.        +1.14440033e-34j 1.        +1.14440033e-34j\n",
      " 1.        +1.14440033e-34j 1.        +1.14440033e-34j\n",
      " 1.        +1.14440033e-34j 1.        +1.14440033e-34j\n",
      " 1.        +1.14440033e-34j 1.        +1.14440033e-34j\n",
      " 1.        +1.14440033e-34j 1.        +1.14440033e-34j\n",
      " 1.        +1.14440033e-34j 1.        +1.14440033e-34j\n",
      " 1.        +1.14440033e-34j 1.        +1.14440033e-34j\n",
      " 1.        +5.08513985e-19j 1.        +1.14440033e-34j\n",
      " 1.        +1.14440033e-34j 1.        +1.14440033e-34j\n",
      " 1.        +1.14440033e-34j 1.        +2.34885666e-19j\n",
      " 1.        +1.14440033e-34j 1.        +3.90514030e-19j\n",
      " 1.        +1.14440033e-34j 1.        +1.14440033e-34j\n",
      " 1.        +1.14440033e-34j 1.        +1.14440033e-34j\n",
      " 1.        +1.14440033e-34j 1.        +1.27747270e-19j\n",
      " 1.        +1.14440033e-34j 1.        +1.14440033e-34j\n",
      " 1.        +1.14440033e-34j 1.        +3.70651478e-19j\n",
      " 1.        +1.14440033e-34j 1.        +1.14440033e-34j\n",
      " 1.        +1.14440033e-34j 1.        +3.12292120e-20j\n",
      " 1.        +1.14440033e-34j 1.        +7.17327757e-19j\n",
      " 1.        +1.14440033e-34j 1.        +1.14440033e-34j\n",
      " 1.        +1.14440033e-34j 1.        +1.14440033e-34j\n",
      " 1.        +6.16609599e-19j 1.        +1.14440033e-34j\n",
      " 1.        +1.14440033e-34j 1.        +3.08282473e-19j\n",
      " 1.        +1.14440033e-34j 1.        +1.14440033e-34j\n",
      " 1.        +2.52671553e-19j 1.        +1.14440033e-34j\n",
      " 1.        +1.14440033e-34j 1.        +1.14440033e-34j\n",
      " 1.        +3.23566595e-19j 1.        +1.14440033e-34j\n",
      " 1.        +1.14440033e-34j 1.        +1.65193077e-19j\n",
      " 1.        +1.14440033e-34j 1.        +1.14440033e-34j\n",
      " 1.        +1.14440033e-34j 1.        +3.04996314e-19j\n",
      " 1.        +1.14440033e-34j 1.        +1.14440033e-34j\n",
      " 1.        +3.41040473e-19j 1.        +1.14440033e-34j\n",
      " 1.        +1.14440033e-34j 1.        +1.14440033e-34j\n",
      " 1.        +1.14440033e-34j 1.        +2.80870091e-19j\n",
      " 1.        +1.14440033e-34j 1.        +1.14440033e-34j\n",
      " 1.        +5.69164816e-19j 1.        +1.14440033e-34j\n",
      " 1.        +1.14440033e-34j 1.        +1.14440033e-34j\n",
      " 1.        +6.20838685e-19j 1.        +1.14440033e-34j\n",
      " 1.        +1.14440033e-34j 1.        +1.14440033e-34j\n",
      " 1.        +2.70870737e-19j 1.        +1.14440033e-34j\n",
      " 1.        +1.68153357e-19j 1.        +1.14440033e-34j\n",
      " 1.        +1.14440033e-34j 1.        +8.59787228e-20j\n",
      " 1.        +1.14440033e-34j 1.        +1.14440033e-34j\n",
      " 1.        +1.14440033e-34j 1.        +2.34177474e-19j\n",
      " 1.        +1.14440033e-34j 1.        +2.90239367e-19j\n",
      " 1.        +1.14440033e-34j 1.        +1.03485255e-19j\n",
      " 1.        +1.14440033e-34j 1.        +1.14440033e-34j\n",
      " 1.        +2.02553166e-19j 1.        +1.14440033e-34j\n",
      " 1.        +1.14440033e-34j 1.        +2.17883699e-19j\n",
      " 1.        +1.14440033e-34j 1.        +1.14440033e-34j\n",
      " 1.        +1.14440033e-34j 1.        +2.52653790e-19j\n",
      " 1.        +1.14440033e-34j 1.        +1.14440033e-34j\n",
      " 1.        +1.80426900e-19j 1.        +1.14440033e-34j\n",
      " 1.        +1.14440033e-34j 1.        +2.92304840e-19j\n",
      " 1.        +1.14440033e-34j 1.        +1.14440033e-34j\n",
      " 1.        +3.81432636e-19j 1.        +1.14440033e-34j\n",
      " 1.        +1.02035167e-19j 1.        +1.14440033e-34j\n",
      " 1.        +1.14440033e-34j 1.        +1.14440033e-34j\n",
      " 1.        +1.14440033e-34j 1.        +3.24898176e-19j\n",
      " 1.        +1.14440033e-34j 1.        +1.45851650e-19j\n",
      " 1.        +1.14440033e-34j 1.        +1.14440033e-34j\n",
      " 1.        +1.14440033e-34j 1.        +1.14440033e-34j\n",
      " 1.        +1.14440033e-34j 1.        +1.14440033e-34j\n",
      " 1.        +6.06075106e-19j 1.        +1.14440033e-34j\n",
      " 1.        +9.90459595e-20j 1.        +1.14440033e-34j\n",
      " 1.        +1.60250762e-19j 1.        +1.14440033e-34j\n",
      " 1.        +1.14440033e-34j 1.        +2.23854231e-19j\n",
      " 1.        +1.14440033e-34j 1.        +1.14440033e-34j\n",
      " 1.        +2.53095514e-19j 1.        +1.14440033e-34j\n",
      " 1.        +1.14440033e-34j 1.        +1.99073543e-19j\n",
      " 1.        +1.14440033e-34j 1.        +9.44506231e-20j\n",
      " 1.        +1.14440033e-34j 1.        +1.14440033e-34j\n",
      " 1.        +1.96352317e-19j 1.        +1.14440033e-34j\n",
      " 1.        +3.19471438e-19j 1.        +1.14440033e-34j\n",
      " 1.        +1.14440033e-34j 1.        +1.14440033e-34j\n",
      " 1.        +2.61553354e-19j 1.        +1.14440033e-34j\n",
      " 1.        +1.14440033e-34j 1.        +2.08608259e-19j\n",
      " 1.        +1.14440033e-34j 1.        +1.14440033e-34j\n",
      " 1.        +1.14440033e-34j 1.        +5.39325701e-19j\n",
      " 1.        +1.14440033e-34j 1.        +1.14440033e-34j\n",
      " 1.        +1.14440033e-34j 1.        +5.22266387e-19j\n",
      " 1.        +1.14440033e-34j 1.        +1.14440033e-34j\n",
      " 1.        +2.02367327e-19j 1.        +1.14440033e-34j\n",
      " 1.        +1.14440033e-34j 1.        +1.14440033e-34j\n",
      " 1.        +2.40671104e-20j 1.        +1.14440033e-34j\n",
      " 1.        +3.38918860e-19j 1.        +1.14440033e-34j\n",
      " 1.        +2.02077113e-19j 1.        +1.14440033e-34j\n",
      " 1.        +1.14440033e-34j 1.        +1.14440033e-34j\n",
      " 1.        +1.14440033e-34j 1.        +1.14440033e-34j\n",
      " 1.        +4.50875101e-19j 1.        +1.14440033e-34j\n",
      " 1.        +6.71713686e-20j 1.        +1.14440033e-34j\n",
      " 1.        +1.14440033e-34j 1.        +1.14440033e-34j\n",
      " 1.        +3.13000428e-19j 1.        +1.14440033e-34j\n",
      " 1.        +1.14440033e-34j 1.        +6.96832686e-20j\n",
      " 1.        +1.14440033e-34j 1.        +1.49072159e-19j\n",
      " 1.        +1.14440033e-34j 1.        +1.14440033e-34j\n",
      " 1.        +3.57409191e-20j 1.        +1.14440033e-34j\n",
      " 1.        +1.25091085e-19j 1.        +1.14440033e-34j\n",
      " 1.        +1.88157179e-19j 1.        +1.14440033e-34j\n",
      " 1.        +3.36938495e-19j 1.        +1.14440033e-34j\n",
      " 1.        +4.42069190e-20j 1.        +1.14440033e-34j\n",
      " 1.        +1.14440033e-34j 1.        +1.14440033e-34j\n",
      " 1.        +1.92425867e-19j 1.        +1.14440033e-34j\n",
      " 1.        +1.14440033e-34j 1.        +1.14440033e-34j\n",
      " 1.        +2.47650667e-20j 1.        +1.14440033e-34j\n",
      " 1.        +3.71309576e-19j 1.        +1.14440033e-34j\n",
      " 1.        +1.75205591e-19j 1.        +1.14440033e-34j\n",
      " 1.        +1.14440033e-34j 1.        +6.66513386e-20j\n",
      " 1.        +1.14440033e-34j 1.        +2.44246484e-19j\n",
      " 1.        +1.14440033e-34j 1.        +8.82691086e-20j\n",
      " 1.        +1.14440033e-34j 1.        +1.14440033e-34j\n",
      " 1.        +1.80201813e-19j 1.        +1.14440033e-34j\n",
      " 1.        +1.99215789e-20j 1.        +1.14440033e-34j\n",
      " 1.        +1.14440033e-34j 1.        +1.14440033e-34j\n",
      " 1.        +4.02178384e-19j 1.        +1.14440033e-34j\n",
      " 1.        +9.52503690e-20j 1.        +1.14440033e-34j\n",
      " 1.        +2.26139374e-19j 1.        +1.14440033e-34j\n",
      " 1.        +1.14440033e-34j 1.        +1.14440033e-34j\n",
      " 1.        +1.14440033e-34j 1.        +1.08453530e-19j\n",
      " 1.        +1.14440033e-34j 1.        +6.94740987e-20j\n",
      " 1.        +1.14440033e-34j 1.        +2.05706247e-19j\n",
      " 1.        +1.14440033e-34j 1.        +2.37270662e-20j\n",
      " 1.        +1.14440033e-34j 1.        +8.56835043e-20j\n",
      " 1.        +1.14440033e-34j 1.        +1.25303363e-19j\n",
      " 1.        +1.14440033e-34j 1.        +1.28205475e-19j\n",
      " 1.        +1.14440033e-34j 1.        +1.14440033e-34j\n",
      " 1.        +1.37729481e-19j 1.        +1.14440033e-34j\n",
      " 1.        +2.57929876e-19j 1.        +1.14440033e-34j\n",
      " 1.        +1.14440033e-34j 1.        +3.12484634e-19j\n",
      " 1.        +1.14440033e-34j 1.        +1.14440033e-34j\n",
      " 1.        +8.30603280e-20j 1.        +1.14440033e-34j\n",
      " 1.        +1.14440033e-34j 1.        +9.13283715e-20j\n",
      " 1.        +1.14440033e-34j 1.        +6.96396381e-21j\n",
      " 1.        +1.14440033e-34j 1.        +6.89329283e-20j\n",
      " 1.        +1.14440033e-34j 1.        +2.37527719e-19j\n",
      " 1.        +1.14440033e-34j 1.        +1.14440033e-34j\n",
      " 1.        +2.27753650e-19j 1.        +1.14440033e-34j\n",
      " 1.        +1.44883958e-19j 1.        +1.14440033e-34j\n",
      " 1.        +1.14440033e-34j 1.        +6.38708934e-20j\n",
      " 1.        +1.14440033e-34j 1.        +3.71788392e-19j\n",
      " 1.        +1.14440033e-34j 1.        +1.14440033e-34j\n",
      " 1.        +1.14440033e-34j 1.        +2.95175253e-19j\n",
      " 1.        +1.14440033e-34j 1.        +1.78205379e-19j\n",
      " 1.        +1.14440033e-34j 1.        +1.14440033e-34j\n",
      " 1.        +3.24298254e-19j 1.        +1.14440033e-34j\n",
      " 1.        +1.51159887e-19j 1.        +1.14440033e-34j\n",
      " 1.        +1.14440033e-34j 1.        +2.84017941e-19j\n",
      " 1.        +1.14440033e-34j 1.        +1.14440033e-34j\n",
      " 1.        +6.24613920e-20j 1.        +1.14440033e-34j\n",
      " 1.        +3.11377655e-19j 1.        +1.14440033e-34j\n",
      " 1.        +1.12128811e-19j 1.        +1.14440033e-34j\n",
      " 1.        +5.59850610e-20j 1.        +1.14440033e-34j\n",
      " 1.        +2.25234130e-19j 1.        +1.14440033e-34j\n",
      " 1.        +4.19686933e-19j 1.        +1.14440033e-34j\n",
      " 1.        +1.61493496e-19j 1.        +1.14440033e-34j\n",
      " 1.        +2.89640234e-19j 1.        +1.14440033e-34j\n",
      " 1.        +1.14440033e-34j 1.        +1.14440033e-34j\n",
      " 1.        +3.05954105e-19j 1.        +1.14440033e-34j\n",
      " 1.        +1.14440033e-34j 1.        +2.85874817e-19j\n",
      " 1.        +1.14440033e-34j 1.        +1.14440033e-34j\n",
      " 1.        +1.14440033e-34j 1.        +2.13075457e-19j\n",
      " 1.        +1.14440033e-34j 1.        +1.14440033e-34j\n",
      " 1.        +3.33794076e-19j 1.        +1.14440033e-34j\n",
      " 1.        +1.14440033e-34j 1.        +1.14440033e-34j\n",
      " 1.        +1.82879346e-19j 1.        +1.14440033e-34j\n",
      " 1.        +1.14440033e-34j 1.        +1.14440033e-34j\n",
      " 1.        +1.14440033e-34j 1.        +3.35769408e-19j\n",
      " 1.        +1.14440033e-34j 1.        +5.22329261e-19j\n",
      " 1.        +1.14440033e-34j 1.        +2.07452041e-19j\n",
      " 1.        +1.14440033e-34j 1.        +1.14440033e-34j\n",
      " 1.        +1.14440033e-34j 1.        +2.45151076e-19j\n",
      " 1.        +1.14440033e-34j 1.        +2.80409945e-19j\n",
      " 1.        +1.14440033e-34j 1.        +1.14440033e-34j\n",
      " 1.        +3.43522534e-19j 1.        +1.14440033e-34j\n",
      " 1.        +1.22874732e-19j 1.        +1.14440033e-34j\n",
      " 1.        +1.14440033e-34j 1.        +1.14440033e-34j\n",
      " 1.        +1.14440033e-34j 1.        +5.27778517e-19j\n",
      " 1.        +1.14440033e-34j 1.        +1.14440033e-34j\n",
      " 1.        +2.87636673e-19j 1.        +1.14440033e-34j\n",
      " 1.        +1.14440033e-34j 1.        +1.14440033e-34j\n",
      " 1.        +1.14440033e-34j 1.        +1.14440033e-34j\n",
      " 1.        +2.30449520e-19j 1.        +1.14440033e-34j\n",
      " 1.        +4.74748161e-19j 1.        +1.14440033e-34j\n",
      " 1.        +1.14440033e-34j 1.        +1.14440033e-34j\n",
      " 1.        +1.14440033e-34j 1.        +1.14440033e-34j\n",
      " 1.        +1.45590589e-19j 1.        +1.14440033e-34j\n",
      " 1.        +1.14440033e-34j 1.        +1.14440033e-34j\n",
      " 1.        +1.14440033e-34j 1.        +1.14440033e-34j\n",
      " 1.        +2.00499572e-19j 1.        +1.14440033e-34j\n",
      " 1.        +5.42110247e-19j 1.        +1.14440033e-34j\n",
      " 1.        +1.14440033e-34j 1.        +1.14440033e-34j\n",
      " 1.        +4.05520091e-20j 1.        +1.14440033e-34j\n",
      " 1.        +1.46961431e-19j 1.        +1.14440033e-34j\n",
      " 1.        +4.07353036e-20j 1.        +1.14440033e-34j\n",
      " 1.        +2.72746832e-19j 1.        +1.14440033e-34j\n",
      " 1.        +1.14440033e-34j 1.        +8.62335659e-20j\n",
      " 1.        +1.14440033e-34j 1.        +1.14440033e-34j\n",
      " 1.        +1.14440033e-34j 1.        +8.32919444e-20j\n",
      " 1.        +1.14440033e-34j 1.        +1.14440033e-34j\n",
      " 1.        +1.63727017e-19j 1.        +1.14440033e-34j\n",
      " 1.        +1.14440033e-34j 1.        +1.14440033e-34j\n",
      " 1.        +1.14440033e-34j 1.        +1.14440033e-34j\n",
      " 1.        +5.46559339e-19j 1.        +1.14440033e-34j\n",
      " 1.        +1.14440033e-34j 1.        +1.14440033e-34j\n",
      " 1.        +6.16596140e-19j 1.        +1.14440033e-34j\n",
      " 1.        +1.14440033e-34j 1.        +1.14440033e-34j\n",
      " 1.        +1.14440033e-34j 1.        +5.89832809e-20j\n",
      " 1.        +1.14440033e-34j 1.        +1.14440033e-34j\n",
      " 1.        +2.10893604e-19j 1.        +1.14440033e-34j\n",
      " 1.        +1.14440033e-34j 1.        +3.32578348e-20j\n",
      " 1.        +1.14440033e-34j 1.        +1.14440033e-34j\n",
      " 1.        +5.19181595e-19j 1.        +1.14440033e-34j\n",
      " 1.        +1.14440033e-34j 1.        +1.14440033e-34j\n",
      " 1.        +1.14440033e-34j 1.        +1.29547238e-19j\n",
      " 1.        +1.14440033e-34j 1.        +1.14440033e-34j\n",
      " 1.        +6.30115446e-19j 1.        +1.14440033e-34j\n",
      " 1.        +1.14440033e-34j 1.        +1.14440033e-34j\n",
      " 1.        +1.14440033e-34j 1.        +2.85488051e-20j\n",
      " 1.        +1.14440033e-34j 1.        +1.14440033e-34j\n",
      " 1.        +1.14440033e-34j 1.        +6.44635386e-19j\n",
      " 1.        +1.14440033e-34j 1.        +1.14440033e-34j\n",
      " 1.        +1.14440033e-34j 1.        +1.14440033e-34j\n",
      " 1.        +1.14440033e-34j 1.        +1.14440033e-34j\n",
      " 1.        +1.14440033e-34j 1.        +1.14440033e-34j\n",
      " 1.        +2.05298731e-19j 1.        +1.14440033e-34j\n",
      " 1.        +1.14440033e-34j 1.        +1.14440033e-34j\n",
      " 1.        +1.50370005e-19j 1.        +1.14440033e-34j\n",
      " 1.        +9.43411638e-20j 1.        +1.14440033e-34j\n",
      " 1.        +1.14440033e-34j 1.        +1.14440033e-34j\n",
      " 1.        +1.14440033e-34j 1.        +1.14440033e-34j\n",
      " 1.        +1.54339728e-19j 1.        +1.14440033e-34j\n",
      " 1.        +1.14440033e-34j 1.        +1.14440033e-34j\n",
      " 1.        +1.14440033e-34j 1.        +1.14440033e-34j]\n"
     ]
    }
   ],
   "source": [
    "eigvals_original = np.linalg.eigvals(data6)\n",
    "eigvals_cholesky = np.linalg.eigvals(cov_cholesky)\n",
    "eigvals_pca = np.linalg.eigvals(cov_pca)\n",
    "\n",
    "K_original = np.cumsum(np.sort(eigvals_original)[::-1]) / np.sum(eigvals_original)\n",
    "K_cholesky = np.cumsum(np.sort(eigvals_cholesky)[::-1]) / np.sum(eigvals_cholesky)\n",
    "K_pca = np.cumsum(np.sort(eigvals_pca)[::-1]) / np.sum(eigvals_pca)\n",
    "print(\"Original: \\n\", K_original)\n",
    "print(\"Cholesky: \\n\", K_cholesky)\n",
    "print(\"PCA: \\n\", K_pca)"
   ]
  },
  {
   "cell_type": "markdown",
   "metadata": {},
   "source": [
    "The cumulative variance explained by each eigenvalu of the PCA simulated matrix is greater, while Cholesky simulated matrix is close to the original matrix."
   ]
  },
  {
   "cell_type": "markdown",
   "metadata": {},
   "source": [
    "## 6.E"
   ]
  },
  {
   "cell_type": "markdown",
   "metadata": {},
   "source": [
    "Cholesky takes 1.7s while PCA takes 0.1s. PCA is much faster."
   ]
  },
  {
   "cell_type": "markdown",
   "metadata": {},
   "source": [
    "## 6.F"
   ]
  },
  {
   "cell_type": "markdown",
   "metadata": {},
   "source": [
    "Cholesky works better for a full rank system and is more accurate. PCA is more efficient since it reduces size of the problem. If Eigenvalues are 0, they are removed from the matrix. Considering a model with many variables, PCA will be more efficient for modeling."
   ]
  }
 ],
 "metadata": {
  "kernelspec": {
   "display_name": ".venv",
   "language": "python",
   "name": "python3"
  },
  "language_info": {
   "codemirror_mode": {
    "name": "ipython",
    "version": 3
   },
   "file_extension": ".py",
   "mimetype": "text/x-python",
   "name": "python",
   "nbconvert_exporter": "python",
   "pygments_lexer": "ipython3",
   "version": "3.13.2"
  }
 },
 "nbformat": 4,
 "nbformat_minor": 2
}
