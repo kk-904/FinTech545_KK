{
 "cells": [
  {
   "cell_type": "code",
   "execution_count": 10,
   "metadata": {},
   "outputs": [],
   "source": [
    "import mylib\n",
    "import pandas as pd\n",
    "import numpy as np\n",
    "from matplotlib import pyplot as plt\n",
    "import scipy.stats as stats\n",
    "from scipy.optimize import brentq\n",
    "import math"
   ]
  },
  {
   "cell_type": "markdown",
   "metadata": {},
   "source": [
    "# Problem 1"
   ]
  },
  {
   "cell_type": "code",
   "execution_count": 11,
   "metadata": {},
   "outputs": [
    {
     "data": {
      "text/html": [
       "<div>\n",
       "<style scoped>\n",
       "    .dataframe tbody tr th:only-of-type {\n",
       "        vertical-align: middle;\n",
       "    }\n",
       "\n",
       "    .dataframe tbody tr th {\n",
       "        vertical-align: top;\n",
       "    }\n",
       "\n",
       "    .dataframe thead th {\n",
       "        text-align: right;\n",
       "    }\n",
       "</style>\n",
       "<table border=\"1\" class=\"dataframe\">\n",
       "  <thead>\n",
       "    <tr style=\"text-align: right;\">\n",
       "      <th></th>\n",
       "      <th>SPY</th>\n",
       "      <th>AAPL</th>\n",
       "      <th>EQIX</th>\n",
       "    </tr>\n",
       "    <tr>\n",
       "      <th>Date</th>\n",
       "      <th></th>\n",
       "      <th></th>\n",
       "      <th></th>\n",
       "    </tr>\n",
       "  </thead>\n",
       "  <tbody>\n",
       "    <tr>\n",
       "      <th>2023-01-03</th>\n",
       "      <td>370.367920</td>\n",
       "      <td>123.768456</td>\n",
       "      <td>639.647766</td>\n",
       "    </tr>\n",
       "    <tr>\n",
       "      <th>2023-01-04</th>\n",
       "      <td>373.227142</td>\n",
       "      <td>125.045052</td>\n",
       "      <td>656.679016</td>\n",
       "    </tr>\n",
       "    <tr>\n",
       "      <th>2023-01-05</th>\n",
       "      <td>368.967438</td>\n",
       "      <td>123.718987</td>\n",
       "      <td>637.822998</td>\n",
       "    </tr>\n",
       "    <tr>\n",
       "      <th>2023-01-06</th>\n",
       "      <td>377.428589</td>\n",
       "      <td>128.271118</td>\n",
       "      <td>650.683350</td>\n",
       "    </tr>\n",
       "    <tr>\n",
       "      <th>2023-01-09</th>\n",
       "      <td>377.214661</td>\n",
       "      <td>128.795578</td>\n",
       "      <td>657.654114</td>\n",
       "    </tr>\n",
       "    <tr>\n",
       "      <th>...</th>\n",
       "      <td>...</td>\n",
       "      <td>...</td>\n",
       "      <td>...</td>\n",
       "    </tr>\n",
       "    <tr>\n",
       "      <th>2024-12-27</th>\n",
       "      <td>595.010010</td>\n",
       "      <td>255.589996</td>\n",
       "      <td>942.659973</td>\n",
       "    </tr>\n",
       "    <tr>\n",
       "      <th>2024-12-30</th>\n",
       "      <td>588.219971</td>\n",
       "      <td>252.199997</td>\n",
       "      <td>935.929993</td>\n",
       "    </tr>\n",
       "    <tr>\n",
       "      <th>2024-12-31</th>\n",
       "      <td>586.080017</td>\n",
       "      <td>250.419998</td>\n",
       "      <td>942.890015</td>\n",
       "    </tr>\n",
       "    <tr>\n",
       "      <th>2025-01-02</th>\n",
       "      <td>584.640015</td>\n",
       "      <td>243.850006</td>\n",
       "      <td>944.229980</td>\n",
       "    </tr>\n",
       "    <tr>\n",
       "      <th>2025-01-03</th>\n",
       "      <td>591.950012</td>\n",
       "      <td>243.360001</td>\n",
       "      <td>959.969971</td>\n",
       "    </tr>\n",
       "  </tbody>\n",
       "</table>\n",
       "<p>504 rows × 3 columns</p>\n",
       "</div>"
      ],
      "text/plain": [
       "                   SPY        AAPL        EQIX\n",
       "Date                                          \n",
       "2023-01-03  370.367920  123.768456  639.647766\n",
       "2023-01-04  373.227142  125.045052  656.679016\n",
       "2023-01-05  368.967438  123.718987  637.822998\n",
       "2023-01-06  377.428589  128.271118  650.683350\n",
       "2023-01-09  377.214661  128.795578  657.654114\n",
       "...                ...         ...         ...\n",
       "2024-12-27  595.010010  255.589996  942.659973\n",
       "2024-12-30  588.219971  252.199997  935.929993\n",
       "2024-12-31  586.080017  250.419998  942.890015\n",
       "2025-01-02  584.640015  243.850006  944.229980\n",
       "2025-01-03  591.950012  243.360001  959.969971\n",
       "\n",
       "[504 rows x 3 columns]"
      ]
     },
     "execution_count": 11,
     "metadata": {},
     "output_type": "execute_result"
    }
   ],
   "source": [
    "# Load the data\n",
    "asset = pd.read_csv('DailyPrices.csv', index_col='Date')[['SPY', 'AAPL', 'EQIX']]\n",
    "asset"
   ]
  },
  {
   "cell_type": "markdown",
   "metadata": {},
   "source": [
    "## A"
   ]
  },
  {
   "cell_type": "code",
   "execution_count": 12,
   "metadata": {},
   "outputs": [
    {
     "name": "stdout",
     "output_type": "stream",
     "text": [
      "                 SPY      AAPL      EQIX\n",
      "Date                                    \n",
      "2024-12-27 -0.011492 -0.014678 -0.006966\n",
      "2024-12-30 -0.012377 -0.014699 -0.008064\n",
      "2024-12-31 -0.004603 -0.008493  0.006512\n",
      "2025-01-02 -0.003422 -0.027671  0.000497\n",
      "2025-01-03  0.011538 -0.003445  0.015745\n",
      "Standard Deviation: \n",
      "SPY     0.008077\n",
      "AAPL    0.013483\n",
      "EQIX    0.015361\n",
      "dtype: float64\n"
     ]
    }
   ],
   "source": [
    "arithmetic_return = mylib.arithmetricReturn(asset)\n",
    "arithmetic_return = arithmetic_return - arithmetic_return.mean()\n",
    "print(arithmetic_return.iloc[-5:, :])\n",
    "print(\"Standard Deviation: \")\n",
    "print(arithmetic_return.std())"
   ]
  },
  {
   "cell_type": "markdown",
   "metadata": {},
   "source": [
    "## B"
   ]
  },
  {
   "cell_type": "code",
   "execution_count": 13,
   "metadata": {},
   "outputs": [
    {
     "name": "stdout",
     "output_type": "stream",
     "text": [
      "                 SPY      AAPL      EQIX\n",
      "Date                                    \n",
      "2024-12-27 -0.011515 -0.014675 -0.006867\n",
      "2024-12-30 -0.012410 -0.014696 -0.007972\n",
      "2024-12-31 -0.004577 -0.008427  0.006602\n",
      "2025-01-02 -0.003392 -0.027930  0.000613\n",
      "2025-01-03  0.011494 -0.003356  0.015725\n",
      "Standard Deviation: \n",
      "SPY     0.008078\n",
      "AAPL    0.013446\n",
      "EQIX    0.015270\n",
      "dtype: float64\n"
     ]
    }
   ],
   "source": [
    "log_return = mylib.logReturn(asset)\n",
    "log_return = log_return - log_return.mean()\n",
    "print(log_return.iloc[-5:, :])\n",
    "print(\"Standard Deviation: \")\n",
    "print(log_return.std())"
   ]
  },
  {
   "cell_type": "markdown",
   "metadata": {},
   "source": [
    "# Problem 2"
   ]
  },
  {
   "cell_type": "markdown",
   "metadata": {},
   "source": [
    "## A"
   ]
  },
  {
   "cell_type": "code",
   "execution_count": 14,
   "metadata": {},
   "outputs": [
    {
     "name": "stdout",
     "output_type": "stream",
     "text": [
      "Portfolio Value: 251862.4969482422\n"
     ]
    }
   ],
   "source": [
    "n_stock = np.array([100, 200, 150])\n",
    "price = asset.iloc[-1, :]\n",
    "pf_value = n_stock @ price\n",
    "print(\"Portfolio Value:\", pf_value)"
   ]
  },
  {
   "cell_type": "markdown",
   "metadata": {},
   "source": [
    "## B"
   ]
  },
  {
   "cell_type": "markdown",
   "metadata": {},
   "source": [
    "### a"
   ]
  },
  {
   "cell_type": "code",
   "execution_count": 15,
   "metadata": {},
   "outputs": [
    {
     "data": {
      "text/html": [
       "<div>\n",
       "<style scoped>\n",
       "    .dataframe tbody tr th:only-of-type {\n",
       "        vertical-align: middle;\n",
       "    }\n",
       "\n",
       "    .dataframe tbody tr th {\n",
       "        vertical-align: top;\n",
       "    }\n",
       "\n",
       "    .dataframe thead th {\n",
       "        text-align: right;\n",
       "    }\n",
       "</style>\n",
       "<table border=\"1\" class=\"dataframe\">\n",
       "  <thead>\n",
       "    <tr style=\"text-align: right;\">\n",
       "      <th></th>\n",
       "      <th>VaR</th>\n",
       "      <th>ES</th>\n",
       "    </tr>\n",
       "  </thead>\n",
       "  <tbody>\n",
       "    <tr>\n",
       "      <th>SPY</th>\n",
       "      <td>825.801984</td>\n",
       "      <td>1035.589004</td>\n",
       "    </tr>\n",
       "    <tr>\n",
       "      <th>AAPL</th>\n",
       "      <td>944.781091</td>\n",
       "      <td>1184.793604</td>\n",
       "    </tr>\n",
       "    <tr>\n",
       "      <th>EQIX</th>\n",
       "      <td>2931.344128</td>\n",
       "      <td>3676.023797</td>\n",
       "    </tr>\n",
       "    <tr>\n",
       "      <th>Total</th>\n",
       "      <td>3856.318301</td>\n",
       "      <td>4835.978728</td>\n",
       "    </tr>\n",
       "  </tbody>\n",
       "</table>\n",
       "</div>"
      ],
      "text/plain": [
       "               VaR           ES\n",
       "SPY     825.801984  1035.589004\n",
       "AAPL    944.781091  1184.793604\n",
       "EQIX   2931.344128  3676.023797\n",
       "Total  3856.318301  4835.978728"
      ]
     },
     "execution_count": 15,
     "metadata": {},
     "output_type": "execute_result"
    }
   ],
   "source": [
    "delta = np.multiply(n_stock, price).values / pf_value\n",
    "sigma = mylib.covEW(arithmetic_return, .97)\n",
    "pf_sigma = np.sqrt(delta @ sigma @ delta)\n",
    "var = - pf_value * stats.norm.ppf(.05) * pf_sigma\n",
    "es = - pf_value * pf_sigma * (-stats.norm.pdf(stats.norm.ppf(.05))/.05)\n",
    "\n",
    "var_stock = -n_stock * price * stats.norm.ppf(.05) * np.sqrt(np.diag(sigma))\n",
    "es_stock = -n_stock * price * np.sqrt(np.diag(sigma)) * (-stats.norm.pdf(stats.norm.ppf(.05))/.05)\n",
    "\n",
    "result_delta_normal = pd.DataFrame({\n",
    "    'VaR': var_stock,\n",
    "    'ES': es_stock\n",
    "})\n",
    "\n",
    "result_delta_normal.loc['Total'] = [var, es]\n",
    "\n",
    "result_delta_normal"
   ]
  },
  {
   "cell_type": "markdown",
   "metadata": {},
   "source": [
    "### b"
   ]
  },
  {
   "cell_type": "code",
   "execution_count": 16,
   "metadata": {},
   "outputs": [
    {
     "data": {
      "text/html": [
       "<div>\n",
       "<style scoped>\n",
       "    .dataframe tbody tr th:only-of-type {\n",
       "        vertical-align: middle;\n",
       "    }\n",
       "\n",
       "    .dataframe tbody tr th {\n",
       "        vertical-align: top;\n",
       "    }\n",
       "\n",
       "    .dataframe thead th {\n",
       "        text-align: right;\n",
       "    }\n",
       "</style>\n",
       "<table border=\"1\" class=\"dataframe\">\n",
       "  <thead>\n",
       "    <tr style=\"text-align: right;\">\n",
       "      <th></th>\n",
       "      <th>VaR</th>\n",
       "      <th>ES</th>\n",
       "    </tr>\n",
       "    <tr>\n",
       "      <th>stock</th>\n",
       "      <th></th>\n",
       "      <th></th>\n",
       "    </tr>\n",
       "  </thead>\n",
       "  <tbody>\n",
       "    <tr>\n",
       "      <th>SPY</th>\n",
       "      <td>778.302425</td>\n",
       "      <td>1038.920756</td>\n",
       "    </tr>\n",
       "    <tr>\n",
       "      <th>AAPL</th>\n",
       "      <td>1035.600188</td>\n",
       "      <td>1464.892622</td>\n",
       "    </tr>\n",
       "    <tr>\n",
       "      <th>EQIX</th>\n",
       "      <td>3397.741427</td>\n",
       "      <td>4843.803932</td>\n",
       "    </tr>\n",
       "    <tr>\n",
       "      <th>Total</th>\n",
       "      <td>4388.772702</td>\n",
       "      <td>6100.974082</td>\n",
       "    </tr>\n",
       "  </tbody>\n",
       "</table>\n",
       "</div>"
      ],
      "text/plain": [
       "               VaR           ES\n",
       "stock                          \n",
       "SPY     778.302425  1038.920756\n",
       "AAPL   1035.600188  1464.892622\n",
       "EQIX   3397.741427  4843.803932\n",
       "Total  4388.772702  6100.974082"
      ]
     },
     "execution_count": 16,
     "metadata": {},
     "output_type": "execute_result"
    }
   ],
   "source": [
    "pf = pd.DataFrame(columns=['stock', 'holding', 'price', 'dist'])\n",
    "pf.loc[:, 'stock'] = asset.columns\n",
    "pf.loc[:,'holding']=n_stock\n",
    "pf.loc[:,'price'] = asset.iloc[-1, :].values\n",
    "pf.loc[:,'dist'] = \"T\"\n",
    "result_sim_copula = mylib.varesSimCopula(pf, arithmetic_return)\n",
    "result_sim_copula = result_sim_copula[['VaR', 'ES']]\n",
    "result_sim_copula"
   ]
  },
  {
   "cell_type": "markdown",
   "metadata": {},
   "source": [
    "### c"
   ]
  },
  {
   "cell_type": "code",
   "execution_count": 17,
   "metadata": {},
   "outputs": [
    {
     "data": {
      "text/html": [
       "<div>\n",
       "<style scoped>\n",
       "    .dataframe tbody tr th:only-of-type {\n",
       "        vertical-align: middle;\n",
       "    }\n",
       "\n",
       "    .dataframe tbody tr th {\n",
       "        vertical-align: top;\n",
       "    }\n",
       "\n",
       "    .dataframe thead th {\n",
       "        text-align: right;\n",
       "    }\n",
       "</style>\n",
       "<table border=\"1\" class=\"dataframe\">\n",
       "  <thead>\n",
       "    <tr style=\"text-align: right;\">\n",
       "      <th></th>\n",
       "      <th>VaR</th>\n",
       "      <th>ES</th>\n",
       "    </tr>\n",
       "  </thead>\n",
       "  <tbody>\n",
       "    <tr>\n",
       "      <th>SPY</th>\n",
       "      <td>872.403863</td>\n",
       "      <td>1080.104204</td>\n",
       "    </tr>\n",
       "    <tr>\n",
       "      <th>AAPL</th>\n",
       "      <td>1067.114956</td>\n",
       "      <td>1437.785272</td>\n",
       "    </tr>\n",
       "    <tr>\n",
       "      <th>EQIX</th>\n",
       "      <td>3635.077091</td>\n",
       "      <td>4714.893996</td>\n",
       "    </tr>\n",
       "    <tr>\n",
       "      <th>Total</th>\n",
       "      <td>5574.595909</td>\n",
       "      <td>7232.783472</td>\n",
       "    </tr>\n",
       "  </tbody>\n",
       "</table>\n",
       "</div>"
      ],
      "text/plain": [
       "               VaR           ES\n",
       "SPY     872.403863  1080.104204\n",
       "AAPL   1067.114956  1437.785272\n",
       "EQIX   3635.077091  4714.893996\n",
       "Total  5574.595909  7232.783472"
      ]
     },
     "execution_count": 17,
     "metadata": {},
     "output_type": "execute_result"
    }
   ],
   "source": [
    "var_historical = arithmetic_return.quantile(.05)\n",
    "es_historical = arithmetic_return[arithmetic_return <= var_historical].mean()\n",
    "\n",
    "var_historical_stock = -n_stock * price * var_historical\n",
    "es_historical_stock = -n_stock * price * es_historical\n",
    "\n",
    "var_historical_total = var_historical_stock.sum()\n",
    "es_historical_total = es_historical_stock.sum()\n",
    "\n",
    "result_historical = pd.DataFrame({\n",
    "    'VaR': var_historical_stock,\n",
    "    'ES': es_historical_stock\n",
    "})\n",
    "\n",
    "result_historical.loc['Total'] = [var_historical_total, es_historical_total]\n",
    "\n",
    "result_historical"
   ]
  },
  {
   "cell_type": "markdown",
   "metadata": {},
   "source": "## C"
  },
  {
   "cell_type": "markdown",
   "metadata": {},
   "source": "According to the result, VaR and ES calculated by historical simulation is the greatest, followed by T distribution using a Gaussian Copula and delta normal. Exponentially weighted covariance is used in a, and more weight is given to recent data. In b, we assume the return following a T distribution, accounting for the fat tails of the return. A Gaussian Copula is used to interpret the relationship between these stocks. In c, we simply simulated using historical data, and got a rough calculation of VaR and ES."
  },
  {
   "cell_type": "markdown",
   "metadata": {},
   "source": [
    "# Problem 3"
   ]
  },
  {
   "cell_type": "markdown",
   "metadata": {},
   "source": [
    "## A"
   ]
  },
  {
   "cell_type": "code",
   "execution_count": 18,
   "metadata": {},
   "outputs": [
    {
     "name": "stdout",
     "output_type": "stream",
     "text": [
      "Implied volatility: 0.3350803924787904\n"
     ]
    }
   ],
   "source": [
    "ttm = .25\n",
    "P = 3\n",
    "S = 31\n",
    "K = 30\n",
    "rf = .10\n",
    "\n",
    "def bs_call(S, K, T, r, sigma):\n",
    "    d1 = (np.log(S / K) + (r + 0.5 * sigma**2) * T) / (sigma * np.sqrt(T))\n",
    "    d2 = d1 - sigma * np.sqrt(T)\n",
    "    return S * stats.norm.cdf(d1) - K * np.exp(-r * T) * stats.norm.cdf(d2)\n",
    "\n",
    "def obj(sigma):\n",
    "    return bs_call(S, K, ttm, rf,sigma) - P\n",
    "\n",
    "iv = brentq(obj, 1e-6, 5)\n",
    "print(\"Implied volatility:\", iv)    "
   ]
  },
  {
   "cell_type": "markdown",
   "metadata": {},
   "source": [
    "## B"
   ]
  },
  {
   "cell_type": "code",
   "execution_count": 19,
   "metadata": {},
   "outputs": [
    {
     "name": "stdout",
     "output_type": "stream",
     "text": [
      "Delta: 0.6659296527386921\n",
      "Vega: 5.640705439230117\n",
      "Theta: -5.544561508358896\n",
      "Price change: 0.05649842751734013\n"
     ]
    }
   ],
   "source": [
    "d1 = (math.log(S / K) + (rf + 0.5 * iv**2) * ttm) / (iv * math.sqrt(ttm))\n",
    "d2 = d1 - iv * math.sqrt(ttm)\n",
    "delta = stats.norm.cdf(d1)\n",
    "print(\"Delta:\", delta)\n",
    "vega = S * stats.norm.pdf(d1) * np.sqrt(ttm)\n",
    "print(\"Vega:\", vega)\n",
    "\n",
    "term1 = - (S * stats.norm.pdf(d1) * iv) / (2 * math.sqrt(ttm))\n",
    "theta = term1 - rf * K * np.exp(-rf * ttm) * stats.norm.cdf(d2)\n",
    "print(\"Theta:\", theta)\n",
    "\n",
    "iv_2 = iv + .01\n",
    "P_2 = bs_call(S, K, ttm, rf, iv_2)\n",
    "print(\"Price change:\", P_2 - P)"
   ]
  },
  {
   "cell_type": "markdown",
   "metadata": {},
   "source": [
    "## C"
   ]
  },
  {
   "cell_type": "code",
   "execution_count": 20,
   "metadata": {},
   "outputs": [
    {
     "name": "stdout",
     "output_type": "stream",
     "text": [
      "Left: 32.25929736084998\n",
      "Right: 32.25929736084998\n"
     ]
    }
   ],
   "source": [
    "def bs_put(S, K, T, r, sigma):\n",
    "    d1 = (np.log(S / K) + (r + 0.5 * sigma**2) * T) / (sigma * np.sqrt(T))\n",
    "    d2 = d1 - sigma * np.sqrt(T)\n",
    "    return K * np.exp(-r * T) * stats.norm.cdf(-d2) - S * stats.norm.cdf(-d1)\n",
    "\n",
    "price_put = bs_put(S, K, ttm, rf, iv)\n",
    "left = P + K * math.exp(-rf * ttm)\n",
    "right = price_put + S\n",
    "print(\"Left:\", left)\n",
    "print(\"Right:\", right)"
   ]
  },
  {
   "cell_type": "markdown",
   "metadata": {},
   "source": [
    "## D"
   ]
  },
  {
   "cell_type": "code",
   "execution_count": 21,
   "metadata": {},
   "outputs": [
    {
     "name": "stdout",
     "output_type": "stream",
     "text": [
      "VaR Delta Normal: 0.20270987353546513\n",
      "ES Delta Normal: 0.25420635945872544\n",
      "VaR MC: 3.9840583406808237\n",
      "ES MC: 4.3145858777130845\n"
     ]
    }
   ],
   "source": [
    "# Assume IV = 25%\n",
    "sigma = .25\n",
    "trading_days = 255\n",
    "holding_days = 20\n",
    "sigma_daily = sigma * math.sqrt(holding_days) / math.sqrt(trading_days)\n",
    "price_call = bs_call(S, K, ttm, rf, sigma)\n",
    "price_put = bs_put(S, K, ttm, rf, sigma)\n",
    "pf_value = S + price_call + price_put\n",
    "def delta(S, K, ttm, rf, sigma, call=True):\n",
    "    d1 = (math.log(S / K) + (rf + 0.5 * sigma**2) * ttm) / (sigma * math.sqrt(ttm))\n",
    "    delta = stats.norm.cdf(d1)\n",
    "    if not call:\n",
    "        delta -= 1\n",
    "    return delta\n",
    "\n",
    "# Delta Normal\n",
    "delta_call = delta(S, K, ttm, rf, sigma)\n",
    "delta_put = delta(S, K, ttm, rf, sigma, False)\n",
    "delta_stock = 1.0\n",
    "delta_pf = delta_call + delta_put + delta_stock\n",
    "vol_pf = np.sqrt((delta_call ** 2 + delta_put ** 2 + delta_stock ** 2) * sigma_daily**2)\n",
    "\n",
    "var_dn = -delta_pf * vol_pf * stats.norm.ppf(.05)\n",
    "es_dn = delta_pf * vol_pf * (stats.norm.pdf(stats.norm.ppf(.05)) / .05)\n",
    "\n",
    "print(\"VaR Delta Normal:\", var_dn)\n",
    "print(\"ES Delta Normal:\", es_dn)\n",
    "\n",
    "# Monte Carlo\n",
    "n_sim = 100000\n",
    "stock_returns = np.random.normal(0, sigma_daily, n_sim)\n",
    "stock_price_last = S * (1+stock_returns)\n",
    "\n",
    "call_price_last = bs_call(stock_price_last, K, 0.25-20/trading_days, rf, sigma)\n",
    "put_price_last = bs_put(stock_price_last, K, 0.25-20/trading_days, rf, sigma)\n",
    "\n",
    "pf_value_last = stock_price_last + call_price_last + put_price_last\n",
    "\n",
    "price_change = pf_value_last - pf_value\n",
    "var_mc = -np.percentile(price_change, 5)\n",
    "es_mc = -price_change[price_change < -var_mc].mean()\n",
    "print(\"VaR MC:\", var_mc)\n",
    "print(\"ES MC:\", es_mc)\n",
    "\n",
    "\n"
   ]
  },
  {
   "cell_type": "markdown",
   "metadata": {},
   "source": [
    "## E"
   ]
  },
  {
   "cell_type": "markdown",
   "metadata": {},
   "source": [
    "VaR and ES calculated using delta normal is less than using Monte Carlo. Delta normal does not take time into account."
   ]
  }
 ],
 "metadata": {
  "kernelspec": {
   "display_name": ".venv",
   "language": "python",
   "name": "python3"
  },
  "language_info": {
   "codemirror_mode": {
    "name": "ipython",
    "version": 3
   },
   "file_extension": ".py",
   "mimetype": "text/x-python",
   "name": "python",
   "nbconvert_exporter": "python",
   "pygments_lexer": "ipython3",
   "version": "3.13.1"
  }
 },
 "nbformat": 4,
 "nbformat_minor": 2
}
